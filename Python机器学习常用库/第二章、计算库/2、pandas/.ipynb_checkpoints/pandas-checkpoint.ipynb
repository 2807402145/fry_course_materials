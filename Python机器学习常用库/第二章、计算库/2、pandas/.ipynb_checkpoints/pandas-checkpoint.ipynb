{
 "cells": [
  {
   "cell_type": "markdown",
   "metadata": {},
   "source": [
    "# <div style=\"text-align:center;color:red;\">pandas基本操作</div>"
   ]
  },
  {
   "cell_type": "markdown",
   "metadata": {},
   "source": [
    "pandas官网，直接百度 \"pandas官网\" 即可得到\n",
    "\n",
    "https://pandas.pydata.org/"
   ]
  },
  {
   "cell_type": "markdown",
   "metadata": {},
   "source": [
    "series，只是一个一维数据结构，它由index和value组成。\n",
    "\n",
    "dataframe，是一个二维结构，除了拥有index和value之外，还拥有column。"
   ]
  },
  {
   "cell_type": "markdown",
   "metadata": {},
   "source": [
    "NumPy：大数据量的纯粹数组处理，以及复杂函数和线性代数等\n",
    "\n",
    "Pandas：处理非纯粹的、混杂数组\n",
    "\n",
    "虽然NumPy有着以上的种种出色的特性，其本身则难以独支数据分析这座大厦，这是一方面是由于NumPy几乎仅专注于数组处理，\n",
    "另一方面则是数据分析牵涉到的数据特性众多，需要处理各种表格和混杂数据，远非纯粹的数组（NumPy）方便解决的，而这就是pandas发力的地方。"
   ]
  },
  {
   "cell_type": "code",
   "execution_count": 1,
   "metadata": {},
   "outputs": [
    {
     "name": "stdout",
     "output_type": "stream",
     "text": [
      "0     1.0\n",
      "1     3.0\n",
      "2     6.0\n",
      "3     NaN\n",
      "4    44.0\n",
      "5     1.0\n",
      "dtype: float64\n"
     ]
    }
   ],
   "source": [
    "# pandas库一般搭配numpy库使用\n",
    "import pandas as pd\n",
    "import numpy as np\n",
    "s = pd.Series([1,3,6,np.nan,44,1])\n",
    "print(s)\n"
   ]
  },
  {
   "cell_type": "code",
   "execution_count": 4,
   "metadata": {},
   "outputs": [
    {
     "name": "stdout",
     "output_type": "stream",
     "text": [
      "DatetimeIndex(['2020-07-03', '2020-07-04', '2020-07-05', '2020-07-06',\n",
      "               '2020-07-07', '2020-07-08'],\n",
      "              dtype='datetime64[ns]', freq='D')\n"
     ]
    }
   ],
   "source": [
    "dates = pd.date_range(\"20200703\",periods=6)\n",
    "print(dates)"
   ]
  },
  {
   "cell_type": "code",
   "execution_count": 6,
   "metadata": {},
   "outputs": [
    {
     "name": "stdout",
     "output_type": "stream",
     "text": [
      "                   a         b         c         d\n",
      "2020-07-03  0.400449 -1.020541  1.923095  1.550324\n",
      "2020-07-04 -0.733878 -0.584060 -0.844641 -0.404814\n",
      "2020-07-05 -1.391202 -0.903147 -0.704307  1.429041\n",
      "2020-07-06  0.941583 -0.205133  0.863580 -0.206818\n",
      "2020-07-07  0.199599 -0.513916  0.321358 -0.358787\n",
      "2020-07-08  0.000444 -0.309331  2.255741  1.169137\n"
     ]
    }
   ],
   "source": [
    "# index表示是行的序列，columns表示是列的序列\n",
    "df = pd.DataFrame(np.random.randn(6,4),index=dates,columns=[\"a\",\"b\",\"c\",\"d\"])\n",
    "print(df)"
   ]
  },
  {
   "cell_type": "code",
   "execution_count": 7,
   "metadata": {},
   "outputs": [
    {
     "name": "stdout",
     "output_type": "stream",
     "text": [
      "     A          B    C  D      E    F\n",
      "0  1.0 2020-07-03  1.0  3   test  foo\n",
      "1  1.0 2020-07-03  1.0  3  train  foo\n",
      "2  1.0 2020-07-03  1.0  3   test  foo\n",
      "3  1.0 2020-07-03  1.0  3  train  foo\n"
     ]
    }
   ],
   "source": [
    "df2 = pd.DataFrame({\"A\":1.,\n",
    "                    \"B\":pd.Timestamp(\"20200703\"),\n",
    "                    \"C\":pd.Series(1,index=list(range(4)),dtype=\"float32\"),\n",
    "                    \"D\":np.array([3]*4,dtype='int32'),\n",
    "                    \"E\":pd.Categorical([\"test\",\"train\",\"test\",\"train\"]),\n",
    "                    \"F\":\"foo\"})\n",
    "print(df2)"
   ]
  },
  {
   "cell_type": "code",
   "execution_count": 8,
   "metadata": {},
   "outputs": [
    {
     "name": "stdout",
     "output_type": "stream",
     "text": [
      "A           float64\n",
      "B    datetime64[ns]\n",
      "C           float32\n",
      "D             int32\n",
      "E          category\n",
      "F            object\n",
      "dtype: object\n"
     ]
    }
   ],
   "source": [
    "print(df2.dtypes)"
   ]
  },
  {
   "cell_type": "code",
   "execution_count": 10,
   "metadata": {},
   "outputs": [
    {
     "name": "stdout",
     "output_type": "stream",
     "text": [
      "Int64Index([0, 1, 2, 3], dtype='int64')\n"
     ]
    }
   ],
   "source": [
    "# 输出所有index\n",
    "print(df2.index)"
   ]
  },
  {
   "cell_type": "code",
   "execution_count": 13,
   "metadata": {},
   "outputs": [
    {
     "name": "stdout",
     "output_type": "stream",
     "text": [
      "Index(['A', 'B', 'C', 'D', 'E', 'F'], dtype='object')\n"
     ]
    }
   ],
   "source": [
    "# 输出所有columns\n",
    "print(df2.columns)"
   ]
  },
  {
   "cell_type": "code",
   "execution_count": 14,
   "metadata": {},
   "outputs": [
    {
     "name": "stdout",
     "output_type": "stream",
     "text": [
      "[[1.0 Timestamp('2020-07-03 00:00:00') 1.0 3 'test' 'foo']\n",
      " [1.0 Timestamp('2020-07-03 00:00:00') 1.0 3 'train' 'foo']\n",
      " [1.0 Timestamp('2020-07-03 00:00:00') 1.0 3 'test' 'foo']\n",
      " [1.0 Timestamp('2020-07-03 00:00:00') 1.0 3 'train' 'foo']]\n"
     ]
    }
   ],
   "source": [
    "# 打印值\n",
    "print(df2.values)"
   ]
  },
  {
   "cell_type": "code",
   "execution_count": 15,
   "metadata": {},
   "outputs": [
    {
     "name": "stdout",
     "output_type": "stream",
     "text": [
      "         A    C    D\n",
      "count  4.0  4.0  4.0\n",
      "mean   1.0  1.0  3.0\n",
      "std    0.0  0.0  0.0\n",
      "min    1.0  1.0  3.0\n",
      "25%    1.0  1.0  3.0\n",
      "50%    1.0  1.0  3.0\n",
      "75%    1.0  1.0  3.0\n",
      "max    1.0  1.0  3.0\n"
     ]
    }
   ],
   "source": [
    "# 描述信息\n",
    "# 只能运行数字类型的列\n",
    "print(df2.describe())"
   ]
  },
  {
   "cell_type": "code",
   "execution_count": 16,
   "metadata": {},
   "outputs": [
    {
     "name": "stdout",
     "output_type": "stream",
     "text": [
      "                     0                    1                    2  \\\n",
      "A                    1                    1                    1   \n",
      "B  2020-07-03 00:00:00  2020-07-03 00:00:00  2020-07-03 00:00:00   \n",
      "C                    1                    1                    1   \n",
      "D                    3                    3                    3   \n",
      "E                 test                train                 test   \n",
      "F                  foo                  foo                  foo   \n",
      "\n",
      "                     3  \n",
      "A                    1  \n",
      "B  2020-07-03 00:00:00  \n",
      "C                    1  \n",
      "D                    3  \n",
      "E                train  \n",
      "F                  foo  \n"
     ]
    }
   ],
   "source": [
    "# 转置\n",
    "print(df2.T)"
   ]
  },
  {
   "cell_type": "code",
   "execution_count": 17,
   "metadata": {},
   "outputs": [
    {
     "name": "stdout",
     "output_type": "stream",
     "text": [
      "     F      E  D    C          B    A\n",
      "0  foo   test  3  1.0 2020-07-03  1.0\n",
      "1  foo  train  3  1.0 2020-07-03  1.0\n",
      "2  foo   test  3  1.0 2020-07-03  1.0\n",
      "3  foo  train  3  1.0 2020-07-03  1.0\n"
     ]
    }
   ],
   "source": [
    "# 排序\n",
    "# axis=1 对列排序\n",
    "df3 = df2.sort_index(axis=1,ascending=False)\n",
    "print(df3)"
   ]
  },
  {
   "cell_type": "code",
   "execution_count": 18,
   "metadata": {},
   "outputs": [
    {
     "name": "stdout",
     "output_type": "stream",
     "text": [
      "     A          B    C  D      E    F\n",
      "3  1.0 2020-07-03  1.0  3  train  foo\n",
      "2  1.0 2020-07-03  1.0  3   test  foo\n",
      "1  1.0 2020-07-03  1.0  3  train  foo\n",
      "0  1.0 2020-07-03  1.0  3   test  foo\n"
     ]
    }
   ],
   "source": [
    "# 排序\n",
    "# 对行排序\n",
    "df3 = df2.sort_index(axis=0,ascending=False)\n",
    "print(df3)"
   ]
  },
  {
   "cell_type": "code",
   "execution_count": 19,
   "metadata": {},
   "outputs": [
    {
     "name": "stdout",
     "output_type": "stream",
     "text": [
      "     A          B    C  D      E    F\n",
      "0  1.0 2020-07-03  1.0  3   test  foo\n",
      "2  1.0 2020-07-03  1.0  3   test  foo\n",
      "1  1.0 2020-07-03  1.0  3  train  foo\n",
      "3  1.0 2020-07-03  1.0  3  train  foo\n"
     ]
    }
   ],
   "source": [
    "# 按照里面的value 进行排序\n",
    "df3 = df2.sort_values(by=\"E\")\n",
    "print(df3)"
   ]
  },
  {
   "cell_type": "markdown",
   "metadata": {},
   "source": [
    "## pandas选取数据"
   ]
  },
  {
   "cell_type": "code",
   "execution_count": 20,
   "metadata": {},
   "outputs": [
    {
     "name": "stdout",
     "output_type": "stream",
     "text": [
      "             a   b   c   d\n",
      "2020-07-03   0   1   2   3\n",
      "2020-07-04   4   5   6   7\n",
      "2020-07-05   8   9  10  11\n",
      "2020-07-06  12  13  14  15\n",
      "2020-07-07  16  17  18  19\n",
      "2020-07-08  20  21  22  23\n"
     ]
    }
   ],
   "source": [
    "dates = pd.date_range(\"20200703\",periods=6)\n",
    "df = pd.DataFrame(np.arange(24).reshape(6,4),index=dates,columns=[\"a\",\"b\",\"c\",\"d\"])\n",
    "print(df)"
   ]
  },
  {
   "cell_type": "code",
   "execution_count": 21,
   "metadata": {},
   "outputs": [
    {
     "name": "stdout",
     "output_type": "stream",
     "text": [
      "2020-07-03     0\n",
      "2020-07-04     4\n",
      "2020-07-05     8\n",
      "2020-07-06    12\n",
      "2020-07-07    16\n",
      "2020-07-08    20\n",
      "Freq: D, Name: a, dtype: int32\n",
      "=====================\n",
      "2020-07-03     0\n",
      "2020-07-04     4\n",
      "2020-07-05     8\n",
      "2020-07-06    12\n",
      "2020-07-07    16\n",
      "2020-07-08    20\n",
      "Freq: D, Name: a, dtype: int32\n"
     ]
    }
   ],
   "source": [
    "# 访问某列\n",
    "print(df[\"a\"])\n",
    "print(\"=====================\")\n",
    "print(df.a)"
   ]
  },
  {
   "cell_type": "code",
   "execution_count": 23,
   "metadata": {},
   "outputs": [
    {
     "name": "stdout",
     "output_type": "stream",
     "text": [
      "            a  b   c   d\n",
      "2020-07-03  0  1   2   3\n",
      "2020-07-04  4  5   6   7\n",
      "2020-07-05  8  9  10  11\n",
      "=====================\n",
      "            a  b   c   d\n",
      "2020-07-03  0  1   2   3\n",
      "2020-07-04  4  5   6   7\n",
      "2020-07-05  8  9  10  11\n"
     ]
    }
   ],
   "source": [
    "print(df[0:3])\n",
    "print(\"=====================\")\n",
    "print(df[\"2020-07-03\":\"2020-07-05\"])"
   ]
  },
  {
   "cell_type": "code",
   "execution_count": 24,
   "metadata": {},
   "outputs": [
    {
     "name": "stdout",
     "output_type": "stream",
     "text": [
      "a    0\n",
      "b    1\n",
      "c    2\n",
      "d    3\n",
      "Name: 2020-07-03 00:00:00, dtype: int32\n"
     ]
    }
   ],
   "source": [
    "#select by label:loc\n",
    "# 筛选行数据\n",
    "print(df.loc[\"2020-07-03\"])"
   ]
  },
  {
   "cell_type": "code",
   "execution_count": 26,
   "metadata": {},
   "outputs": [
    {
     "name": "stdout",
     "output_type": "stream",
     "text": [
      "             a   b   c   d\n",
      "2020-07-03   0   1   2   3\n",
      "2020-07-04   4   5   6   7\n",
      "2020-07-05   8   9  10  11\n",
      "2020-07-06  12  13  14  15\n",
      "2020-07-07  16  17  18  19\n",
      "2020-07-08  20  21  22  23\n",
      "             a   b\n",
      "2020-07-03   0   1\n",
      "2020-07-04   4   5\n",
      "2020-07-05   8   9\n",
      "2020-07-06  12  13\n",
      "2020-07-07  16  17\n",
      "2020-07-08  20  21\n"
     ]
    }
   ],
   "source": [
    "# 筛选列数据\n",
    "print(df)\n",
    "print(df.loc[:,[\"a\",\"b\"]])"
   ]
  },
  {
   "cell_type": "code",
   "execution_count": 29,
   "metadata": {},
   "outputs": [
    {
     "name": "stdout",
     "output_type": "stream",
     "text": [
      "a    0\n",
      "b    1\n",
      "Name: 2020-07-03 00:00:00, dtype: int32\n"
     ]
    }
   ],
   "source": [
    "# 同时选行列\n",
    "print(df.loc[\"2020-07-03\",[\"a\",\"b\"]])"
   ]
  },
  {
   "cell_type": "code",
   "execution_count": 33,
   "metadata": {},
   "outputs": [
    {
     "name": "stdout",
     "output_type": "stream",
     "text": [
      "a    12\n",
      "b    13\n",
      "c    14\n",
      "d    15\n",
      "Name: 2020-07-06 00:00:00, dtype: int32\n",
      "=====================\n",
      "13\n",
      "=====================\n",
      "             b   c   d\n",
      "2020-07-06  13  14  15\n",
      "2020-07-07  17  18  19\n"
     ]
    }
   ],
   "source": [
    "# 选择具体的位置 select by position: iloc\n",
    "# 打印第三行的数据\n",
    "print(df.iloc[3])\n",
    "# 打印第三行第一个\n",
    "print(\"=====================\")\n",
    "print(df.iloc[3,1])\n",
    "# 切片\n",
    "print(\"=====================\")\n",
    "print(df.iloc[3:5,1:4])\n"
   ]
  },
  {
   "cell_type": "code",
   "execution_count": 34,
   "metadata": {},
   "outputs": [
    {
     "name": "stdout",
     "output_type": "stream",
     "text": [
      "             b   c   d\n",
      "2020-07-04   5   6   7\n",
      "2020-07-06  13  14  15\n",
      "2020-07-08  21  22  23\n"
     ]
    }
   ],
   "source": [
    "# 不连续筛选\n",
    "print(df.iloc[[1,3,5],1:4])"
   ]
  },
  {
   "cell_type": "code",
   "execution_count": 37,
   "metadata": {},
   "outputs": [
    {
     "name": "stdout",
     "output_type": "stream",
     "text": [
      "             a   b   c   d\n",
      "2020-07-03   0   1   2   3\n",
      "2020-07-04   4   5   6   7\n",
      "2020-07-05   8   9  10  11\n",
      "2020-07-06  12  13  14  15\n",
      "2020-07-07  16  17  18  19\n",
      "2020-07-08  20  21  22  23\n",
      "=====================\n",
      "             a   b   c   d\n",
      "2020-07-06  12  13  14  15\n",
      "2020-07-07  16  17  18  19\n",
      "2020-07-08  20  21  22  23\n"
     ]
    }
   ],
   "source": [
    "# 筛选 Boolean indexing\n",
    "# 筛选 a > 8 的行\n",
    "print(df)\n",
    "print(\"=====================\")\n",
    "print(df[df.a>8])"
   ]
  },
  {
   "cell_type": "markdown",
   "metadata": {},
   "source": [
    "## padas 设置值"
   ]
  },
  {
   "cell_type": "code",
   "execution_count": 2,
   "metadata": {},
   "outputs": [
    {
     "name": "stdout",
     "output_type": "stream",
     "text": [
      "             a   b   c   d\n",
      "2020-07-03   0   1   2   3\n",
      "2020-07-04   4   5   6   7\n",
      "2020-07-05   8   9  10  11\n",
      "2020-07-06  12  13  14  15\n",
      "2020-07-07  16  17  18  19\n",
      "2020-07-08  20  21  22  23\n"
     ]
    }
   ],
   "source": [
    "dates = pd.date_range(\"20200703\",periods=6)\n",
    "df = pd.DataFrame(np.arange(24).reshape(6,4),index=dates,columns=[\"a\",\"b\",\"c\",\"d\"])\n",
    "print(df)"
   ]
  },
  {
   "cell_type": "code",
   "execution_count": 3,
   "metadata": {},
   "outputs": [
    {
     "name": "stdout",
     "output_type": "stream",
     "text": [
      "             a   b   c   d\n",
      "2020-07-03   0   1   2   3\n",
      "2020-07-04   4   5   6   7\n",
      "2020-07-05   8   9  67  11\n",
      "2020-07-06  12  13  14  15\n",
      "2020-07-07  16  17  18  19\n",
      "2020-07-08  20  21  22  23\n"
     ]
    }
   ],
   "source": [
    "# 直接设置值\n",
    "df.iloc[2,2]=67\n",
    "print(df)\n"
   ]
  },
  {
   "cell_type": "code",
   "execution_count": 4,
   "metadata": {},
   "outputs": [
    {
     "name": "stdout",
     "output_type": "stream",
     "text": [
      "             a   b   c   d\n",
      "2020-07-03   0   1   2   3\n",
      "2020-07-04   4   5   6   7\n",
      "2020-07-05   8   9  67  11\n",
      "2020-07-06  12  13  14  55\n",
      "2020-07-07  16  17  18  19\n",
      "2020-07-08  20  21  22  23\n"
     ]
    }
   ],
   "source": [
    "# 以标签的形式来改，先找到标签，然后改了\n",
    "df.loc[\"2020-07-06\",\"d\"]=55\n",
    "print(df)"
   ]
  },
  {
   "cell_type": "code",
   "execution_count": 5,
   "metadata": {},
   "outputs": [
    {
     "name": "stdout",
     "output_type": "stream",
     "text": [
      "            a  b   c   d\n",
      "2020-07-03  0  1   2   3\n",
      "2020-07-04  4  5   6   7\n",
      "2020-07-05  8  9  67  11\n",
      "2020-07-06  0  0   0   0\n",
      "2020-07-07  0  0   0   0\n",
      "2020-07-08  0  0   0   0\n"
     ]
    }
   ],
   "source": [
    "df[df.a>10]=0\n",
    "print(df)"
   ]
  },
  {
   "cell_type": "code",
   "execution_count": 7,
   "metadata": {},
   "outputs": [
    {
     "name": "stdout",
     "output_type": "stream",
     "text": [
      "             a   b   c   d\n",
      "2020-07-03   0   1   2   3\n",
      "2020-07-04   4   5   6   7\n",
      "2020-07-05   8   9  10  11\n",
      "2020-07-06  12  13  14  15\n",
      "2020-07-07  16  17  18  19\n",
      "2020-07-08  20  21  22  23\n",
      "            a   b   c   d\n",
      "2020-07-03  0   1   2   3\n",
      "2020-07-04  4   5   6   7\n",
      "2020-07-05  8   9  10  11\n",
      "2020-07-06  0  13  14  15\n",
      "2020-07-07  0  17  18  19\n",
      "2020-07-08  0  21  22  23\n"
     ]
    }
   ],
   "source": [
    "# 只想处理a这一列\n",
    "dates = pd.date_range(\"20200703\",periods=6)\n",
    "df = pd.DataFrame(np.arange(24).reshape(6,4),index=dates,columns=[\"a\",\"b\",\"c\",\"d\"])\n",
    "print(df)\n",
    "df.a[df.a>10]=0\n",
    "print(df)"
   ]
  },
  {
   "cell_type": "code",
   "execution_count": 8,
   "metadata": {},
   "outputs": [
    {
     "name": "stdout",
     "output_type": "stream",
     "text": [
      "            a   b   c   d   e\n",
      "2020-07-03  0   1   2   3 NaN\n",
      "2020-07-04  4   5   6   7 NaN\n",
      "2020-07-05  8   9  10  11 NaN\n",
      "2020-07-06  0  13  14  15 NaN\n",
      "2020-07-07  0  17  18  19 NaN\n",
      "2020-07-08  0  21  22  23 NaN\n"
     ]
    }
   ],
   "source": [
    "# 增加一个行\n",
    "# 真的就非常像一般数组的操作，比如js、php等\n",
    "df['e'] = np.nan\n",
    "print(df)"
   ]
  },
  {
   "cell_type": "code",
   "execution_count": 9,
   "metadata": {},
   "outputs": [
    {
     "name": "stdout",
     "output_type": "stream",
     "text": [
      "            a   b   c   d   e  f\n",
      "2020-07-03  0   1   2   3 NaN  1\n",
      "2020-07-04  4   5   6   7 NaN  2\n",
      "2020-07-05  8   9  10  11 NaN  3\n",
      "2020-07-06  0  13  14  15 NaN  4\n",
      "2020-07-07  0  17  18  19 NaN  5\n",
      "2020-07-08  0  21  22  23 NaN  6\n"
     ]
    }
   ],
   "source": [
    "# 增加有数据的一行，需要对齐\n",
    "df['f'] = pd.Series([1,2,3,4,5,6],index=pd.date_range(\"20200703\",periods=6))\n",
    "print(df)\n",
    "\n"
   ]
  },
  {
   "cell_type": "markdown",
   "metadata": {},
   "source": [
    "## pandas 处理丢失数据"
   ]
  },
  {
   "cell_type": "code",
   "execution_count": 10,
   "metadata": {},
   "outputs": [
    {
     "name": "stdout",
     "output_type": "stream",
     "text": [
      "             a     b     c   d\n",
      "2020-07-03   0   NaN   2.0   3\n",
      "2020-07-04   4   5.0   NaN   7\n",
      "2020-07-05   8   9.0  10.0  11\n",
      "2020-07-06  12  13.0  14.0  15\n",
      "2020-07-07  16  17.0  18.0  19\n",
      "2020-07-08  20  21.0  22.0  23\n"
     ]
    }
   ],
   "source": [
    "dates = pd.date_range(\"20200703\",periods=6)\n",
    "df = pd.DataFrame(np.arange(24).reshape(6,4),index=dates,columns=[\"a\",\"b\",\"c\",\"d\"])\n",
    "df.iloc[0,1] = np.nan\n",
    "df.iloc[1,2] = np.nan\n",
    "print(df)\n"
   ]
  },
  {
   "cell_type": "code",
   "execution_count": null,
   "metadata": {},
   "outputs": [],
   "source": [
    "# 处理方式一，丢掉数据\n",
    "# 丢行\n",
    "print(df.dropna())\n"
   ]
  },
  {
   "cell_type": "code",
   "execution_count": 13,
   "metadata": {},
   "outputs": [
    {
     "name": "stdout",
     "output_type": "stream",
     "text": [
      "             a   d\n",
      "2020-07-03   0   3\n",
      "2020-07-04   4   7\n",
      "2020-07-05   8  11\n",
      "2020-07-06  12  15\n",
      "2020-07-07  16  19\n",
      "2020-07-08  20  23\n"
     ]
    }
   ],
   "source": [
    "# 丢列\n",
    "print(df.dropna(axis=1))\n"
   ]
  },
  {
   "cell_type": "code",
   "execution_count": 15,
   "metadata": {},
   "outputs": [
    {
     "name": "stdout",
     "output_type": "stream",
     "text": [
      "             a     b     c   d\n",
      "2020-07-03   0   0.0   2.0   3\n",
      "2020-07-04   4   5.0   0.0   7\n",
      "2020-07-05   8   9.0  10.0  11\n",
      "2020-07-06  12  13.0  14.0  15\n",
      "2020-07-07  16  17.0  18.0  19\n",
      "2020-07-08  20  21.0  22.0  23\n"
     ]
    }
   ],
   "source": [
    "# fillna，填充为NaN的数据\n",
    "print(df.fillna(value=0))\n",
    "# 把为nan位置的数据填成0"
   ]
  },
  {
   "cell_type": "code",
   "execution_count": 16,
   "metadata": {},
   "outputs": [
    {
     "name": "stdout",
     "output_type": "stream",
     "text": [
      "                a      b      c      d\n",
      "2020-07-03  False   True  False  False\n",
      "2020-07-04  False  False   True  False\n",
      "2020-07-05  False  False  False  False\n",
      "2020-07-06  False  False  False  False\n",
      "2020-07-07  False  False  False  False\n",
      "2020-07-08  False  False  False  False\n"
     ]
    }
   ],
   "source": [
    "# isnull判断是否确实数据\n",
    "print(df.isnull())"
   ]
  },
  {
   "cell_type": "code",
   "execution_count": 18,
   "metadata": {},
   "outputs": [
    {
     "name": "stdout",
     "output_type": "stream",
     "text": [
      "True\n"
     ]
    }
   ],
   "source": [
    "# 判断是否缺失数据\n",
    "# np.any判断是否有true\n",
    "print(np.any(df.isnull()) == True)"
   ]
  },
  {
   "cell_type": "markdown",
   "metadata": {},
   "source": [
    "## pandas 导入导出"
   ]
  },
  {
   "cell_type": "markdown",
   "metadata": {},
   "source": [
    "pandas可以导入常见的各种类型的文件，比如 cvs、txt、json、excel、spss、sql等等\n",
    "\n",
    "panda的文件的读取和保存的格式非常统一，比如读csv格式，读的话就是pd.read_csv(\"data.csv\")，存的话就是data.to_csv(\"data1.csv\")\n",
    "\n",
    "这里可以查看：\n",
    "https://pandas.pydata.org/docs/user_guide/io.html"
   ]
  },
  {
   "cell_type": "code",
   "execution_count": 21,
   "metadata": {
    "scrolled": true
   },
   "outputs": [
    {
     "name": "stdout",
     "output_type": "stream",
     "text": [
      "  name  age  gender\n",
      "0  孙悟空   32    male\n",
      "1  蜘蛛精   11  famale\n",
      "2  沙和尚   12    male\n"
     ]
    }
   ],
   "source": [
    "# 读csv文件格式\n",
    "data = pd.read_csv(\"data.csv\")\n",
    "print(data)\n"
   ]
  },
  {
   "cell_type": "code",
   "execution_count": 22,
   "metadata": {},
   "outputs": [],
   "source": [
    "# 存csv文件\n",
    "# 要保存为什么格式，就调用to什么格式的方法即可\n",
    "data.to_csv(\"data1.csv\")"
   ]
  },
  {
   "cell_type": "markdown",
   "metadata": {},
   "source": [
    "## pandas 合并 concat"
   ]
  },
  {
   "cell_type": "markdown",
   "metadata": {},
   "source": [
    "可以各种横向纵向来合并dataframe"
   ]
  },
  {
   "cell_type": "code",
   "execution_count": 23,
   "metadata": {},
   "outputs": [
    {
     "name": "stdout",
     "output_type": "stream",
     "text": [
      "     a    b    c    d\n",
      "0  0.0  0.0  0.0  0.0\n",
      "1  0.0  0.0  0.0  0.0\n",
      "2  0.0  0.0  0.0  0.0\n",
      "     a    b    c    d\n",
      "0  1.0  1.0  1.0  1.0\n",
      "1  1.0  1.0  1.0  1.0\n",
      "2  1.0  1.0  1.0  1.0\n",
      "     a    b    c    d\n",
      "0  2.0  2.0  2.0  2.0\n",
      "1  2.0  2.0  2.0  2.0\n",
      "2  2.0  2.0  2.0  2.0\n"
     ]
    }
   ],
   "source": [
    "import pandas as pd\n",
    "import numpy as np\n",
    "df1 = pd.DataFrame(np.ones((3,4))*0,columns=[\"a\",\"b\",\"c\",\"d\"])\n",
    "df2 = pd.DataFrame(np.ones((3,4))*1,columns=[\"a\",\"b\",\"c\",\"d\"])\n",
    "df3 = pd.DataFrame(np.ones((3,4))*2,columns=[\"a\",\"b\",\"c\",\"d\"])\n",
    "print(df1)\n",
    "print(df2)\n",
    "print(df3)"
   ]
  },
  {
   "cell_type": "code",
   "execution_count": 24,
   "metadata": {},
   "outputs": [
    {
     "name": "stdout",
     "output_type": "stream",
     "text": [
      "     a    b    c    d\n",
      "0  0.0  0.0  0.0  0.0\n",
      "1  0.0  0.0  0.0  0.0\n",
      "2  0.0  0.0  0.0  0.0\n",
      "0  1.0  1.0  1.0  1.0\n",
      "1  1.0  1.0  1.0  1.0\n",
      "2  1.0  1.0  1.0  1.0\n",
      "0  2.0  2.0  2.0  2.0\n",
      "1  2.0  2.0  2.0  2.0\n",
      "2  2.0  2.0  2.0  2.0\n"
     ]
    }
   ],
   "source": [
    "# 上下合并\n",
    "# axis=0表示纵向合并，axis=0表示横向合并，\n",
    "res = pd.concat([df1,df2,df3],axis=0)\n",
    "print(res)"
   ]
  },
  {
   "cell_type": "code",
   "execution_count": 26,
   "metadata": {},
   "outputs": [
    {
     "name": "stdout",
     "output_type": "stream",
     "text": [
      "     a    b    c    d\n",
      "0  0.0  0.0  0.0  0.0\n",
      "1  0.0  0.0  0.0  0.0\n",
      "2  0.0  0.0  0.0  0.0\n",
      "3  1.0  1.0  1.0  1.0\n",
      "4  1.0  1.0  1.0  1.0\n",
      "5  1.0  1.0  1.0  1.0\n",
      "6  2.0  2.0  2.0  2.0\n",
      "7  2.0  2.0  2.0  2.0\n",
      "8  2.0  2.0  2.0  2.0\n"
     ]
    }
   ],
   "source": [
    "# 忽略索引之后，索引重新生成\n",
    "res = pd.concat([df1,df2,df3],axis=0,ignore_index=True)\n",
    "print(res)"
   ]
  },
  {
   "cell_type": "code",
   "execution_count": 29,
   "metadata": {},
   "outputs": [
    {
     "name": "stdout",
     "output_type": "stream",
     "text": [
      "     a    b    c    d\n",
      "1  0.0  0.0  0.0  0.0\n",
      "2  0.0  0.0  0.0  0.0\n",
      "3  0.0  0.0  0.0  0.0\n",
      "     b    c    d    e\n",
      "2  1.0  1.0  1.0  1.0\n",
      "3  1.0  1.0  1.0  1.0\n",
      "4  1.0  1.0  1.0  1.0\n"
     ]
    }
   ],
   "source": [
    "# join,[\"inner\",\"outer\"]\n",
    "# 就像数据库数据的连接一样\n",
    "df1 = pd.DataFrame(np.ones((3,4))*0,columns=[\"a\",\"b\",\"c\",\"d\"],index=[1,2,3])\n",
    "df2 = pd.DataFrame(np.ones((3,4))*1,columns=[\"b\",\"c\",\"d\",\"e\"],index=[2,3,4])\n",
    "print(df1)\n",
    "print(df2)\n"
   ]
  },
  {
   "cell_type": "code",
   "execution_count": 31,
   "metadata": {},
   "outputs": [
    {
     "name": "stdout",
     "output_type": "stream",
     "text": [
      "     a    b    c    d    e\n",
      "1  0.0  0.0  0.0  0.0  NaN\n",
      "2  0.0  0.0  0.0  0.0  NaN\n",
      "3  0.0  0.0  0.0  0.0  NaN\n",
      "2  NaN  1.0  1.0  1.0  1.0\n",
      "3  NaN  1.0  1.0  1.0  1.0\n",
      "4  NaN  1.0  1.0  1.0  1.0\n"
     ]
    }
   ],
   "source": [
    "# 直接 concat 合并\n",
    "# 因为这样默认的join的处理方式就是 outer\n",
    "# res = pd.concat([df1,df2],axis=0)\n",
    "res = pd.concat([df1,df2],axis=0,join=\"outer\")\n",
    "print(res)\n",
    "# 结果显然不是我们想要的"
   ]
  },
  {
   "cell_type": "code",
   "execution_count": 33,
   "metadata": {},
   "outputs": [
    {
     "name": "stdout",
     "output_type": "stream",
     "text": [
      "     b    c    d\n",
      "0  0.0  0.0  0.0\n",
      "1  0.0  0.0  0.0\n",
      "2  0.0  0.0  0.0\n",
      "3  1.0  1.0  1.0\n",
      "4  1.0  1.0  1.0\n",
      "5  1.0  1.0  1.0\n"
     ]
    }
   ],
   "source": [
    "# inner方式就是把两个都有的裁剪下来\n",
    "# inner是交集，outer是并集\n",
    "res = pd.concat([df1,df2],axis=0,join=\"inner\",ignore_index=True)\n",
    "print(res)"
   ]
  },
  {
   "cell_type": "markdown",
   "metadata": {},
   "source": [
    "## pandas 合并 merge"
   ]
  },
  {
   "cell_type": "code",
   "execution_count": 34,
   "metadata": {},
   "outputs": [
    {
     "name": "stdout",
     "output_type": "stream",
     "text": [
      "  key   a   b\n",
      "0  k0  a1  b1\n",
      "1  k1  a2  b2\n",
      "2  k2  a3  b3\n",
      "  key   c   d\n",
      "0  k0  c1  d1\n",
      "1  k1  c2  d2\n",
      "2  k2  c3  d3\n"
     ]
    }
   ],
   "source": [
    "left = pd.DataFrame({\"key\":[\"k0\",\"k1\",\"k2\"],\"a\":[\"a1\",\"a2\",\"a3\"],\"b\":[\"b1\",\"b2\",\"b3\"]})\n",
    "right = pd.DataFrame({\"key\":[\"k0\",\"k1\",\"k2\"],\"c\":[\"c1\",\"c2\",\"c3\"],\"d\":[\"d1\",\"d2\",\"d3\"]})\n",
    "print(left)\n",
    "print(right)"
   ]
  },
  {
   "cell_type": "code",
   "execution_count": 35,
   "metadata": {},
   "outputs": [
    {
     "name": "stdout",
     "output_type": "stream",
     "text": [
      "  key   a   b   c   d\n",
      "0  k0  a1  b1  c1  d1\n",
      "1  k1  a2  b2  c2  d2\n",
      "2  k2  a3  b3  c3  d3\n"
     ]
    }
   ],
   "source": [
    "# 感觉就是非常非常像数据库的这一套操作\n",
    "res = pd.merge(left,right,on=\"key\")\n",
    "print(res)"
   ]
  },
  {
   "cell_type": "markdown",
   "metadata": {},
   "source": [
    "## pandas plot 图表"
   ]
  },
  {
   "cell_type": "code",
   "execution_count": 41,
   "metadata": {},
   "outputs": [
    {
     "name": "stdout",
     "output_type": "stream",
     "text": [
      "0      -0.821543\n",
      "1      -1.400969\n",
      "2      -1.063937\n",
      "3      -1.271283\n",
      "4      -1.722325\n",
      "         ...    \n",
      "995    -9.708325\n",
      "996   -10.147374\n",
      "997    -9.416161\n",
      "998   -10.717159\n",
      "999    -9.965055\n",
      "Length: 1000, dtype: float64\n"
     ]
    },
    {
     "data": {
      "image/png": "[encoded data removed]",
      "text/plain": [
       "<Figure size 432x288 with 1 Axes>"
      ]
     },
     "metadata": {
      "needs_background": "light"
     },
     "output_type": "display_data"
    }
   ],
   "source": [
    "import pandas as pd\n",
    "import numpy as np\n",
    "import matplotlib.pyplot as plt\n",
    "\n",
    "data = pd.Series(np.random.randn(1000))\n",
    "data = data.cumsum()\n",
    "print(data)\n",
    "data.plot()\n",
    "plt.show()\n"
   ]
  },
  {
   "cell_type": "code",
   "execution_count": 49,
   "metadata": {},
   "outputs": [
    {
     "name": "stdout",
     "output_type": "stream",
     "text": [
      "             A          B          C          D\n",
      "0    -1.376840   0.332067   0.780854  -2.224115\n",
      "1    -0.737247   0.327831  -0.144637  -2.784555\n",
      "2    -0.814113  -0.253493  -0.443814  -0.739176\n",
      "3    -1.139643  -2.647939   0.570177  -2.385832\n",
      "4    -3.177548  -2.932269  -0.179243  -1.278837\n",
      "..         ...        ...        ...        ...\n",
      "995 -35.318600  18.092235 -67.395662 -32.008234\n",
      "996 -37.228967  19.120680 -65.007778 -32.824829\n",
      "997 -38.168278  18.060445 -66.075966 -32.187316\n",
      "998 -38.599118  18.165318 -65.261910 -32.813513\n",
      "999 -38.561740  16.318049 -65.822558 -33.280435\n",
      "\n",
      "[1000 rows x 4 columns]\n"
     ]
    },
    {
     "data": {
      "image/png": "[encoded data removed]",
      "text/plain": [
       "<Figure size 432x288 with 1 Axes>"
      ]
     },
     "metadata": {
      "needs_background": "light"
     },
     "output_type": "display_data"
    }
   ],
   "source": [
    "# 这里不能用 pd.Series\n",
    "data = pd.DataFrame(np.random.randn(1000,4),index=np.arange(1000),columns=list(\"ABCD\"))\n",
    "data = data.cumsum()\n",
    "print(data)\n",
    "data.plot()\n",
    "plt.show()"
   ]
  },
  {
   "cell_type": "code",
   "execution_count": null,
   "metadata": {},
   "outputs": [],
   "source": []
  },
  {
   "cell_type": "code",
   "execution_count": null,
   "metadata": {},
   "outputs": [],
   "source": []
  }
 ],
 "metadata": {
  "kernelspec": {
   "display_name": "Python 3",
   "language": "python",
   "name": "python3"
  },
  "language_info": {
   "codemirror_mode": {
    "name": "ipython",
    "version": 3
   },
   "file_extension": ".py",
   "mimetype": "text/x-python",
   "name": "python",
   "nbconvert_exporter": "python",
   "pygments_lexer": "ipython3",
   "version": "3.7.6"
  }
 },
 "nbformat": 4,
 "nbformat_minor": 4
}
