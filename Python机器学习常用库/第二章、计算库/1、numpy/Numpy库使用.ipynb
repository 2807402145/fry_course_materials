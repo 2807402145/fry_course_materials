{
 "cells": [
  {
   "cell_type": "markdown",
   "metadata": {},
   "source": [
    "# <div style=\"color:red;text-align:center;\">Numpy库使用</div>"
   ]
  },
  {
   "cell_type": "markdown",
   "metadata": {},
   "source": [
    "NumPy 教程 | 菜鸟教程\n",
    "https://www.runoob.com/numpy/numpy-tutorial.html\n",
    "\n",
    "https://www.bilibili.com/video/BV1Ex411L7oT?from=search&seid=17531730633877574353\n",
    "Numpy & Pandas (莫烦 Python 数据处理教程)"
   ]
  },
  {
   "cell_type": "code",
   "execution_count": 20,
   "metadata": {},
   "outputs": [
    {
     "name": "stdout",
     "output_type": "stream",
     "text": [
      "[[1 2 3]\n",
      " [2 3 4]]\n"
     ]
    }
   ],
   "source": [
    "# 安装库\n",
    "# pip3 install numpy\n",
    "\n",
    "# 引入库\n",
    "import numpy as np\n",
    "\n",
    "# 生成一个数组\n",
    "array = np.array([[1,2,3],\n",
    "                  [2,3,4]])\n",
    "print(array)\n",
    "# 打印的结果没有逗号分隔\n"
   ]
  },
  {
   "cell_type": "markdown",
   "metadata": {},
   "source": [
    "## numpy属性"
   ]
  },
  {
   "cell_type": "code",
   "execution_count": 2,
   "metadata": {
    "scrolled": true
   },
   "outputs": [
    {
     "name": "stdout",
     "output_type": "stream",
     "text": [
      "2\n"
     ]
    }
   ],
   "source": [
    "#  打印数组维数\n",
    "print(array.ndim)"
   ]
  },
  {
   "cell_type": "code",
   "execution_count": 3,
   "metadata": {
    "scrolled": true
   },
   "outputs": [
    {
     "name": "stdout",
     "output_type": "stream",
     "text": [
      "(2, 3)\n"
     ]
    }
   ],
   "source": [
    "# 打印行数列数\n",
    "print(array.shape)"
   ]
  },
  {
   "cell_type": "code",
   "execution_count": 4,
   "metadata": {},
   "outputs": [
    {
     "name": "stdout",
     "output_type": "stream",
     "text": [
      "6\n"
     ]
    }
   ],
   "source": [
    "# 打印数组中的元素\n",
    "print(array.size)"
   ]
  },
  {
   "cell_type": "markdown",
   "metadata": {},
   "source": [
    "## numpy创建array"
   ]
  },
  {
   "cell_type": "markdown",
   "metadata": {},
   "source": [
    "numpy.array(object, dtype = None, copy = True, order = None, subok = False, ndmin = 0)\n",
    "\n",
    "---\n",
    "\n",
    "object\t数组或嵌套的数列\n",
    "\n",
    "dtype\t数组元素的数据类型，可选\n",
    "\n",
    "copy\t对象是否需要复制，可选\n",
    "\n",
    "order\t创建数组的样式，C为行方向，F为列方向，A为任意方向（默认）\n",
    "\n",
    "subok\t默认返回一个与基类类型一致的数组\n",
    "\n",
    "ndmin\t指定生成数组的最小维度\n"
   ]
  },
  {
   "cell_type": "code",
   "execution_count": 5,
   "metadata": {},
   "outputs": [
    {
     "name": "stdout",
     "output_type": "stream",
     "text": [
      "int64\n"
     ]
    }
   ],
   "source": [
    "# 有int、float这些\n",
    "arr1 = np.array([2,23,4],dtype=np.int64)\n",
    "print(arr1.dtype)"
   ]
  },
  {
   "cell_type": "code",
   "execution_count": 6,
   "metadata": {},
   "outputs": [
    {
     "name": "stdout",
     "output_type": "stream",
     "text": [
      "[[0. 0. 0. 0.]\n",
      " [0. 0. 0. 0.]\n",
      " [0. 0. 0. 0.]]\n"
     ]
    }
   ],
   "source": [
    "# 初始化生成全是0的数组\n",
    "arr2 = np.zeros((3,4))\n",
    "print(arr2)\n"
   ]
  },
  {
   "cell_type": "code",
   "execution_count": 7,
   "metadata": {},
   "outputs": [
    {
     "name": "stdout",
     "output_type": "stream",
     "text": [
      "[[1. 1. 1. 1.]\n",
      " [1. 1. 1. 1.]\n",
      " [1. 1. 1. 1.]]\n"
     ]
    }
   ],
   "source": [
    "# 生成全是1的矩阵\n",
    "arr2 = np.ones((3,4))\n",
    "print(arr2)"
   ]
  },
  {
   "cell_type": "code",
   "execution_count": 21,
   "metadata": {},
   "outputs": [
    {
     "name": "stdout",
     "output_type": "stream",
     "text": [
      "[[1.06099790e-313 1.06099790e-313 1.48539705e-313]\n",
      " [1.90979621e-313 1.90979621e-313 1.90979621e-313]]\n"
     ]
    }
   ],
   "source": [
    "# 生成非常接近为0的数组\n",
    "arr2 = np.empty((2,3))\n",
    "print(arr2)"
   ]
  },
  {
   "cell_type": "code",
   "execution_count": 9,
   "metadata": {},
   "outputs": [
    {
     "name": "stdout",
     "output_type": "stream",
     "text": [
      "[10 11 12 13 14 15 16 17 18 19]\n",
      "[10 12 14 16 18]\n"
     ]
    }
   ],
   "source": [
    "# 生成指定的序列\n",
    "arr3 = np.arange(10,20)\n",
    "print(arr3)\n",
    "# 指定步距\n",
    "arr4 = np.arange(10,20,2)\n",
    "print(arr4)"
   ]
  },
  {
   "cell_type": "code",
   "execution_count": 10,
   "metadata": {},
   "outputs": [
    {
     "name": "stdout",
     "output_type": "stream",
     "text": [
      "[[ 0  1  2  3]\n",
      " [ 4  5  6  7]\n",
      " [ 8  9 10 11]]\n"
     ]
    }
   ],
   "source": [
    "# 指定序列生成多维\n",
    "arr5 = np.arange(12).reshape((3,4))\n",
    "print(arr5)"
   ]
  },
  {
   "cell_type": "code",
   "execution_count": 11,
   "metadata": {},
   "outputs": [
    {
     "name": "stdout",
     "output_type": "stream",
     "text": [
      "[1.  1.5 2.  2.5 3. ]\n"
     ]
    }
   ],
   "source": [
    "# 生成线段\n",
    "# 1-3 生成5段\n",
    "arr6 = np.linspace(1,3,5)\n",
    "print(arr6)"
   ]
  },
  {
   "cell_type": "code",
   "execution_count": 12,
   "metadata": {},
   "outputs": [
    {
     "name": "stdout",
     "output_type": "stream",
     "text": [
      "[[1.  1.4 1.8]\n",
      " [2.2 2.6 3. ]]\n"
     ]
    }
   ],
   "source": [
    "# 生成线段\n",
    "arr7 = np.linspace(1,3,6).reshape((2,3))\n",
    "print(arr7)"
   ]
  },
  {
   "cell_type": "markdown",
   "metadata": {},
   "source": [
    "## numpy基础运算"
   ]
  },
  {
   "cell_type": "code",
   "execution_count": 13,
   "metadata": {},
   "outputs": [
    {
     "name": "stdout",
     "output_type": "stream",
     "text": [
      "[10 20 30 40] [0 1 2 3]\n",
      "[10 19 28 37]\n"
     ]
    }
   ],
   "source": [
    "# 减法\n",
    "a = np.array([10,20,30,40])\n",
    "b = np.arange(4)\n",
    "c=a-b\n",
    "print(a,b)\n",
    "print(c)"
   ]
  },
  {
   "cell_type": "code",
   "execution_count": 14,
   "metadata": {},
   "outputs": [
    {
     "name": "stdout",
     "output_type": "stream",
     "text": [
      "[10 20 30 40] [0 1 2 3]\n",
      "[10 21 32 43]\n"
     ]
    }
   ],
   "source": [
    "# 加法\n",
    "a = np.array([10,20,30,40])\n",
    "b = np.arange(4)\n",
    "c=a+b\n",
    "print(a,b)\n",
    "print(c)"
   ]
  },
  {
   "cell_type": "code",
   "execution_count": 15,
   "metadata": {},
   "outputs": [
    {
     "name": "stdout",
     "output_type": "stream",
     "text": [
      "[10 20 30 40] [0 1 2 3]\n",
      "[  0  20  60 120]\n"
     ]
    }
   ],
   "source": [
    "# 乘法\n",
    "a = np.array([10,20,30,40])\n",
    "b = np.arange(4)\n",
    "c=a*b\n",
    "print(a,b)\n",
    "print(c)"
   ]
  },
  {
   "cell_type": "code",
   "execution_count": 16,
   "metadata": {},
   "outputs": [
    {
     "name": "stdout",
     "output_type": "stream",
     "text": [
      "[0 1 2 3]\n",
      "[ 0  1  8 27]\n"
     ]
    }
   ],
   "source": [
    "# 次方\n",
    "a = np.array([10,20,30,40])\n",
    "b = np.arange(4)\n",
    "c=b**3\n",
    "print(b)\n",
    "print(c)"
   ]
  },
  {
   "cell_type": "code",
   "execution_count": 17,
   "metadata": {},
   "outputs": [
    {
     "name": "stdout",
     "output_type": "stream",
     "text": [
      "[10 20 30 40]\n",
      "[-5.44021111  9.12945251 -9.88031624  7.4511316 ]\n"
     ]
    }
   ],
   "source": [
    "# 求sin\n",
    "a = np.array([10,20,30,40])\n",
    "c=10*np.sin(a)\n",
    "# c=10*np.cos(a)\n",
    "# c=10*np.tan(a)\n",
    "print(a)\n",
    "print(c)"
   ]
  },
  {
   "cell_type": "code",
   "execution_count": 34,
   "metadata": {},
   "outputs": [
    {
     "name": "stdout",
     "output_type": "stream",
     "text": [
      "[0 1 2 3]\n",
      "[ True  True  True False]\n"
     ]
    }
   ],
   "source": [
    "b = np.arange(4)\n",
    "print(b)\n",
    "print(b<3)\n"
   ]
  },
  {
   "cell_type": "code",
   "execution_count": 40,
   "metadata": {},
   "outputs": [
    {
     "name": "stdout",
     "output_type": "stream",
     "text": [
      "[[1 1]\n",
      " [0 1]]\n",
      "[[0 1]\n",
      " [2 3]]\n",
      "==================\n",
      "[[0 1]\n",
      " [0 3]]\n",
      "==================\n",
      "[[2 4]\n",
      " [2 3]]\n",
      "==================\n",
      "[[2 4]\n",
      " [2 3]]\n"
     ]
    }
   ],
   "source": [
    "# 矩阵的内积和乘法\n",
    "a = np.array([[1,1],[0,1]])\n",
    "b = np.arange(4).reshape((2,2))\n",
    "# 矩阵内积\n",
    "c=a*b\n",
    "print(a)\n",
    "print(b)\n",
    "print(\"==================\")\n",
    "print(c)\n",
    "print(\"==================\")\n",
    "# 矩阵乘法\n",
    "c_dot = np.dot(a,b)\n",
    "print(c_dot)\n",
    "print(\"==================\")\n",
    "c_dot2 = a.dot(b)\n",
    "print(c_dot2)"
   ]
  },
  {
   "cell_type": "code",
   "execution_count": 41,
   "metadata": {},
   "outputs": [
    {
     "name": "stdout",
     "output_type": "stream",
     "text": [
      "[[0.14956064 0.66987348 0.22376993 0.80123786]\n",
      " [0.26032116 0.89149151 0.79810473 0.09450006]]\n"
     ]
    }
   ],
   "source": [
    "# 随机生成一个数组\n",
    "a = np.random.random((2,4))\n",
    "print(a)"
   ]
  },
  {
   "cell_type": "code",
   "execution_count": 43,
   "metadata": {},
   "outputs": [
    {
     "name": "stdout",
     "output_type": "stream",
     "text": [
      "3.888859381019415\n",
      "0.0945000608272768\n",
      "0.891491510485371\n",
      "===============\n",
      "[1.84444192 2.04441746]\n",
      "[0.14956064 0.09450006]\n",
      "[0.26032116 0.89149151 0.79810473 0.80123786]\n"
     ]
    }
   ],
   "source": [
    "# 求和，求最小值，求最大值\n",
    "# np.sum()\n",
    "# np.min()\n",
    "# np.max()\n",
    "print(np.sum(a))\n",
    "print(np.min(a))\n",
    "print(np.max(a))\n",
    "print(\"===============\")\n",
    "# 在某行或者某列上面求和\n",
    "# axis=1为在行上求\n",
    "# axis=0为在列上求\n",
    "print(np.sum(a,axis=1))\n",
    "print(np.min(a,axis=1))\n",
    "print(np.max(a,axis=0))"
   ]
  },
  {
   "cell_type": "markdown",
   "metadata": {},
   "source": [
    "## numpy 基础运算2"
   ]
  },
  {
   "cell_type": "code",
   "execution_count": 56,
   "metadata": {},
   "outputs": [
    {
     "name": "stdout",
     "output_type": "stream",
     "text": [
      "[[ 2  3  4  5]\n",
      " [ 6  7  8  9]\n",
      " [10 11 12 13]]\n",
      "0\n",
      "11\n",
      "7.5\n",
      "7.5\n",
      "7.5\n",
      "7.5\n",
      "====================\n",
      "[ 2  5  9 14 20 27 35 44 54 65 77 90]\n",
      "[[1 1 1]\n",
      " [1 1 1]\n",
      " [1 1 1]]\n"
     ]
    }
   ],
   "source": [
    "a = np.arange(2,14).reshape((3,4))\n",
    "print(a)\n",
    "# 打印最小值的索引\n",
    "print(np.argmin(a))\n",
    "# 打印最大值的索引\n",
    "print(np.argmax(a))\n",
    "# 求平均值\n",
    "print(np.mean(a))\n",
    "print(a.mean())\n",
    "print(np.average(a))\n",
    "# 中位数\n",
    "print(np.median(a)) #中位数也是7.5\n",
    "print(\"====================\")\n",
    "# 累加求和\n",
    "print(np.cumsum(a))\n",
    "# 累差 \n",
    "# 两个数的差\n",
    "print(np.diff(a))\n"
   ]
  },
  {
   "cell_type": "code",
   "execution_count": 55,
   "metadata": {},
   "outputs": [
    {
     "name": "stdout",
     "output_type": "stream",
     "text": [
      "(array([0, 0, 0, 0, 1, 1, 1, 1, 2, 2, 2, 2], dtype=int64), array([0, 1, 2, 3, 0, 1, 2, 3, 0, 1, 2, 3], dtype=int64))\n"
     ]
    }
   ],
   "source": [
    "# 输出行号和列号两个数组\n",
    "print(np.nonzero(a))"
   ]
  },
  {
   "cell_type": "code",
   "execution_count": 58,
   "metadata": {},
   "outputs": [
    {
     "name": "stdout",
     "output_type": "stream",
     "text": [
      "[[20 19 18 17]\n",
      " [16 15 14 13]\n",
      " [12 11 10  9]]\n",
      "[[17 18 19 20]\n",
      " [13 14 15 16]\n",
      " [ 9 10 11 12]]\n"
     ]
    }
   ],
   "source": [
    "# 排序\n",
    "a = np.arange(20,8,-1).reshape((3,4))\n",
    "print(a)\n",
    "# 直接是每一行排序\n",
    "print(np.sort(a))"
   ]
  },
  {
   "cell_type": "code",
   "execution_count": 62,
   "metadata": {},
   "outputs": [
    {
     "name": "stdout",
     "output_type": "stream",
     "text": [
      "[[20 19 18 17]\n",
      " [16 15 14 13]\n",
      " [12 11 10  9]]\n",
      "[[20 16 12]\n",
      " [19 15 11]\n",
      " [18 14 10]\n",
      " [17 13  9]]\n",
      "[[20 16 12]\n",
      " [19 15 11]\n",
      " [18 14 10]\n",
      " [17 13  9]]\n"
     ]
    }
   ],
   "source": [
    "# 矩阵的转置\n",
    "print(a)\n",
    "print(np.transpose(a))\n",
    "print(a.T)"
   ]
  },
  {
   "cell_type": "code",
   "execution_count": 18,
   "metadata": {},
   "outputs": [
    {
     "name": "stdout",
     "output_type": "stream",
     "text": [
      "[[ 2  3  4  5]\n",
      " [ 6  7  8  9]\n",
      " [10 11 12 13]]\n",
      "[[5 5 5 5]\n",
      " [6 7 8 9]\n",
      " [9 9 9 9]]\n"
     ]
    }
   ],
   "source": [
    "# 矩阵的\n",
    "a = np.arange(2,14).reshape((3,4))\n",
    "print(a)\n",
    "# 小于5的数全部让它变成5\n",
    "# 大于9的数全部是9\n",
    "print(np.clip(a,5,9))"
   ]
  },
  {
   "cell_type": "code",
   "execution_count": 19,
   "metadata": {},
   "outputs": [
    {
     "name": "stdout",
     "output_type": "stream",
     "text": [
      "[6. 7. 8. 9.]\n",
      "[ 3.5  7.5 11.5]\n"
     ]
    }
   ],
   "source": [
    "# 求平均数，指定列，axis=0表示列，为1表示行\n",
    "print(np.mean(a,axis=0))\n",
    "# 指定行\n",
    "print(np.mean(a,axis=1))"
   ]
  },
  {
   "cell_type": "markdown",
   "metadata": {},
   "source": [
    "## numpy索引和迭代"
   ]
  },
  {
   "cell_type": "code",
   "execution_count": 67,
   "metadata": {},
   "outputs": [
    {
     "name": "stdout",
     "output_type": "stream",
     "text": [
      "[ 3  4  5  6  7  8  9 10 11 12 13 14]\n",
      "6\n"
     ]
    }
   ],
   "source": [
    "a = np.arange(3,15)\n",
    "print(a)\n",
    "# 索引像数组一样\n",
    "print(a[3])\n"
   ]
  },
  {
   "cell_type": "code",
   "execution_count": 71,
   "metadata": {},
   "outputs": [
    {
     "name": "stdout",
     "output_type": "stream",
     "text": [
      "[[ 3  4  5  6]\n",
      " [ 7  8  9 10]\n",
      " [11 12 13 14]]\n",
      "[ 7  8  9 10]\n",
      "8\n",
      "8\n"
     ]
    }
   ],
   "source": [
    "# 二维数组\n",
    "a = np.arange(3,15).reshape((3,4))\n",
    "print(a)\n",
    "# 索引像数组一样\n",
    "print(a[1])\n",
    "print(a[1][1])\n",
    "print(a[1,1])"
   ]
  },
  {
   "cell_type": "code",
   "execution_count": 74,
   "metadata": {},
   "outputs": [
    {
     "name": "stdout",
     "output_type": "stream",
     "text": [
      "[ 7  8  9 10]\n",
      "[ 4  8 12]\n",
      "[8 9]\n"
     ]
    }
   ],
   "source": [
    "# 打印第1行所有数\n",
    "print(a[1,:])\n",
    "# 打印第1列的所有数\n",
    "print(a[:,1])\n",
    "# 第1行 从1-2\n",
    "print(a[1,1:3])"
   ]
  },
  {
   "cell_type": "code",
   "execution_count": 75,
   "metadata": {},
   "outputs": [
    {
     "name": "stdout",
     "output_type": "stream",
     "text": [
      "[[ 3  4  5  6]\n",
      " [ 7  8  9 10]\n",
      " [11 12 13 14]]\n",
      "[3 4 5 6]\n",
      "[ 7  8  9 10]\n",
      "[11 12 13 14]\n"
     ]
    }
   ],
   "source": [
    "# 迭代行\n",
    "a = np.arange(3,15).reshape((3,4))\n",
    "print(a)\n",
    "for i in a:\n",
    "    print(i)\n",
    "\n"
   ]
  },
  {
   "cell_type": "code",
   "execution_count": 76,
   "metadata": {},
   "outputs": [
    {
     "name": "stdout",
     "output_type": "stream",
     "text": [
      "[ 3  7 11]\n",
      "[ 4  8 12]\n",
      "[ 5  9 13]\n",
      "[ 6 10 14]\n"
     ]
    }
   ],
   "source": [
    "# 迭代列 (转置一下即可实现)\n",
    "for i in a.T:\n",
    "    print(i)"
   ]
  },
  {
   "cell_type": "code",
   "execution_count": 78,
   "metadata": {},
   "outputs": [
    {
     "name": "stdout",
     "output_type": "stream",
     "text": [
      "[ 3  4  5  6  7  8  9 10 11 12 13 14]\n",
      "3\n",
      "4\n",
      "5\n",
      "6\n",
      "7\n",
      "8\n",
      "9\n",
      "10\n",
      "11\n",
      "12\n",
      "13\n",
      "14\n"
     ]
    }
   ],
   "source": [
    "# 迭代每一个数\n",
    "print(a.flatten())\n",
    "# flatten() 和 flat的区别\n",
    "# flat是一个迭代器\n",
    "for i in a.flat:\n",
    "    print(i)"
   ]
  },
  {
   "cell_type": "markdown",
   "metadata": {},
   "source": [
    "## numpy array 合并"
   ]
  },
  {
   "cell_type": "code",
   "execution_count": 80,
   "metadata": {},
   "outputs": [
    {
     "name": "stdout",
     "output_type": "stream",
     "text": [
      "[[1 2 3]\n",
      " [4 5 6]]\n",
      "(3,)\n",
      "(2, 3)\n"
     ]
    }
   ],
   "source": [
    "a = np.array([1,2,3])\n",
    "b = np.array([4,5,6])\n",
    "# 合并数组\n",
    "# 上下合并 vertical stack\n",
    "c = np.vstack((a,b))\n",
    "print(c)\n",
    "print(a.shape)\n",
    "print(c.shape)\n"
   ]
  },
  {
   "cell_type": "code",
   "execution_count": 81,
   "metadata": {},
   "outputs": [
    {
     "name": "stdout",
     "output_type": "stream",
     "text": [
      "[1 2 3 4 5 6]\n"
     ]
    }
   ],
   "source": [
    "# 左右合并 horizontal\n",
    "c = np.hstack((a,b))\n",
    "print(c)"
   ]
  },
  {
   "cell_type": "code",
   "execution_count": 83,
   "metadata": {},
   "outputs": [
    {
     "name": "stdout",
     "output_type": "stream",
     "text": [
      "[[1 2 3]]\n",
      "[[1]\n",
      " [2]\n",
      " [3]]\n"
     ]
    }
   ],
   "source": [
    "# 如何实现把一个横向的数列变成一个竖向的数列\n",
    "a = np.array([1,2,3])\n",
    "# 在行上加了一个维度\n",
    "print(a[np.newaxis,:])\n",
    "# 在列上加了一个维度\n",
    "print(a[:,np.newaxis])"
   ]
  },
  {
   "cell_type": "code",
   "execution_count": 91,
   "metadata": {},
   "outputs": [
    {
     "name": "stdout",
     "output_type": "stream",
     "text": [
      "[[1]\n",
      " [2]\n",
      " [3]]\n",
      "[[4]\n",
      " [5]\n",
      " [6]]\n",
      "====================\n",
      "[[1]\n",
      " [2]\n",
      " [3]\n",
      " [4]\n",
      " [5]\n",
      " [6]\n",
      " [1]\n",
      " [2]\n",
      " [3]]\n",
      "====================\n",
      "[[1 4 1]\n",
      " [2 5 2]\n",
      " [3 6 3]]\n"
     ]
    }
   ],
   "source": [
    "a = np.array([1,2,3])[:,np.newaxis]\n",
    "b = np.array([4,5,6])[:,np.newaxis]\n",
    "print(a)\n",
    "print(b)\n",
    "print(\"====================\")\n",
    "c = np.concatenate((a,b,a),axis=0)\n",
    "print(c)\n",
    "print(\"====================\")\n",
    "d = np.concatenate((a,b,a),axis=1)\n",
    "print(d)"
   ]
  },
  {
   "cell_type": "markdown",
   "metadata": {},
   "source": [
    "## numpy array 分割"
   ]
  },
  {
   "cell_type": "code",
   "execution_count": 93,
   "metadata": {},
   "outputs": [
    {
     "name": "stdout",
     "output_type": "stream",
     "text": [
      "[[ 0  1  2  3]\n",
      " [ 4  5  6  7]\n",
      " [ 8  9 10 11]]\n",
      "====================\n",
      "[array([[0, 1],\n",
      "       [4, 5],\n",
      "       [8, 9]]), array([[ 2,  3],\n",
      "       [ 6,  7],\n",
      "       [10, 11]])]\n"
     ]
    }
   ],
   "source": [
    "a = np.arange(12).reshape((3,4))\n",
    "print(a)\n",
    "print(\"====================\")\n",
    "# 分割\n",
    "# 每行分割成两个\n",
    "# axis=1表示对水平进行操作\n",
    "print(np.split(a,2,axis=1))"
   ]
  },
  {
   "cell_type": "code",
   "execution_count": 94,
   "metadata": {},
   "outputs": [
    {
     "name": "stdout",
     "output_type": "stream",
     "text": [
      "[array([[0, 1, 2, 3]]), array([[4, 5, 6, 7]]), array([[ 8,  9, 10, 11]])]\n"
     ]
    }
   ],
   "source": [
    "# 纵向分割成3块\n",
    "print(np.split(a,3,axis=0))\n"
   ]
  },
  {
   "cell_type": "code",
   "execution_count": 96,
   "metadata": {},
   "outputs": [
    {
     "name": "stdout",
     "output_type": "stream",
     "text": [
      "[array([[0, 1],\n",
      "       [4, 5],\n",
      "       [8, 9]]), array([[ 2],\n",
      "       [ 6],\n",
      "       [10]]), array([[ 3],\n",
      "       [ 7],\n",
      "       [11]])]\n"
     ]
    }
   ],
   "source": [
    "# 不等量分割\n",
    "# ValueError: array split does not result in an equal division\n",
    "# print(np.split(a,3,axis=1)) # 行的四个元素分成3个会出错\n",
    "print(np.array_split(a,3,axis=1))\n",
    "# 这样分成了 2 1 1 "
   ]
  },
  {
   "cell_type": "code",
   "execution_count": 99,
   "metadata": {},
   "outputs": [
    {
     "name": "stdout",
     "output_type": "stream",
     "text": [
      "[array([[0, 1, 2, 3]]), array([[4, 5, 6, 7]]), array([[ 8,  9, 10, 11]])]\n",
      "[array([[0, 1],\n",
      "       [4, 5],\n",
      "       [8, 9]]), array([[ 2,  3],\n",
      "       [ 6,  7],\n",
      "       [10, 11]])]\n"
     ]
    }
   ],
   "source": [
    "print(np.vsplit(a,3))\n",
    "print(np.hsplit(a,2))"
   ]
  },
  {
   "cell_type": "markdown",
   "metadata": {},
   "source": [
    "## numpy copy & deep copy"
   ]
  },
  {
   "cell_type": "code",
   "execution_count": 8,
   "metadata": {},
   "outputs": [
    {
     "name": "stdout",
     "output_type": "stream",
     "text": [
      "[0 1 2 3]\n",
      "[0 1 2 3]\n"
     ]
    }
   ],
   "source": [
    "a = np.arange(4)\n",
    "b = a\n",
    "print(a)\n",
    "print(b)"
   ]
  },
  {
   "cell_type": "code",
   "execution_count": 15,
   "metadata": {},
   "outputs": [
    {
     "name": "stdout",
     "output_type": "stream",
     "text": [
      "[199   7   8   3]\n",
      "[199   7   8   3]\n",
      "1461953739072\n",
      "1461953739072\n",
      "True\n"
     ]
    }
   ],
   "source": [
    "a[0] = 199\n",
    "b[1:3] = [7,8]\n",
    "print(a)\n",
    "print(b)\n",
    "print(id(a))\n",
    "print(id(b))\n",
    "print(b is a)"
   ]
  },
  {
   "cell_type": "code",
   "execution_count": 16,
   "metadata": {},
   "outputs": [
    {
     "name": "stdout",
     "output_type": "stream",
     "text": [
      "[0 1 2 3]\n",
      "[0 1 2 3]\n",
      "1461953726544\n",
      "1461953726144\n"
     ]
    }
   ],
   "source": [
    "# numpy 中的 copy方法是 deep copy\n",
    "a = np.arange(4)\n",
    "b = a.copy()\n",
    "print(a)\n",
    "print(b)\n",
    "print(id(a))\n",
    "print(id(b))"
   ]
  },
  {
   "cell_type": "code",
   "execution_count": 17,
   "metadata": {},
   "outputs": [
    {
     "name": "stdout",
     "output_type": "stream",
     "text": [
      "[199   1   2   3]\n",
      "[0 7 8 3]\n"
     ]
    }
   ],
   "source": [
    "a[0] = 199\n",
    "b[1:3] = [7,8]\n",
    "print(a)\n",
    "print(b)"
   ]
  },
  {
   "cell_type": "code",
   "execution_count": null,
   "metadata": {},
   "outputs": [],
   "source": []
  }
 ],
 "metadata": {
  "kernelspec": {
   "display_name": "Python 3",
   "language": "python",
   "name": "python3"
  },
  "language_info": {
   "codemirror_mode": {
    "name": "ipython",
    "version": 3
   },
   "file_extension": ".py",
   "mimetype": "text/x-python",
   "name": "python",
   "nbconvert_exporter": "python",
   "pygments_lexer": "ipython3",
   "version": "3.7.6"
  }
 },
 "nbformat": 4,
 "nbformat_minor": 4
}
