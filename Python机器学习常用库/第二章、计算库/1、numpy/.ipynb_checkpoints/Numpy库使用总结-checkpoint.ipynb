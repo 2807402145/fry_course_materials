{
 "cells": [
  {
   "cell_type": "markdown",
   "metadata": {},
   "source": [
    "# <div style=\"color:red;text-align:center;\">Numpy库使用总结</div>"
   ]
  },
  {
   "cell_type": "markdown",
   "metadata": {},
   "source": [
    "## 一、numpy库概述"
   ]
  },
  {
   "cell_type": "markdown",
   "metadata": {},
   "source": [
    "**numpy库是做什么的**\n",
    "\n",
    "大数据量的纯粹数组处理，以及复杂函数和线性代数等\n",
    "\n",
    "NumPy的主要对象是同构多维数组。它是一个元素表（通常是数字），所有类型都相同，由非负整数元组索引。\n",
    "\n",
    "---\n",
    "\n",
    "**numpy库核心**\n",
    "\n",
    "numpy的结构是纯粹的ndarray\n",
    "\n",
    "---\n",
    "\n",
    "**numpy库和pandas库的关系**\n",
    "\n",
    "NumPy：大数据量的纯粹数组处理，以及复杂函数和线性代数等\n",
    "Pandas：处理非纯粹的、混杂数组\n",
    "\n",
    "虽然NumPy有着以上的种种出色的特性，其本身则难以独支数据分析这座大厦，这是一方面是由于NumPy几乎仅专注于数组处理，\n",
    "另一方面则是数据分析牵涉到的数据特性众多，需要处理各种表格和混杂数据，远非纯粹的数组（NumPy）方便解决的，而这就是pandas发力的地方。\n",
    "\n",
    "---\n",
    "\n",
    "**NumPy在大数组的数据处理方面进行的优化？**\n",
    "\n",
    "+ 【连续的内存块】：NumPy是在一个连续的内存块中存储数据，独立于其他Python内置对象，如此便可以加速数据索引的速度。\n",
    "+ 【调用大量c语言算法库】：NumPy调用了大量的用C语言编写的算法库，使得其可以直接操作内存，不必进行Python动态语言特性所含有的前期类型检查工作，从而大大提高了运算速度。\n",
    "+ 【整数组直接计算】：NumPy所有独有的可以在整个数组上执行复杂的计算也能够大幅提高运算效率（基于NumPy的算法要比纯Python快10到100倍，甚至会快更多）。\n",
    "\n",
    "---\n",
    "\n",
    "**上百G的数据如何处理**\n",
    "\n",
    "Python处理几个G的数据绰绰有余，至于几十G也勉强可以，而上百G的数据这就算是Hadoop与Spark系列的任务，不是Python的NumPy与pandas可以应付的，也不是R语言某个第三方包可以处理的。\n",
    "\n",
    "\n",
    "---\n",
    "\n",
    "**NumPy数组 和 原生Python Array（数组）之间有几个重要的区别**\n",
    "\n",
    "+ NumPy 数组在创建时具有固定的大小，与Python的原生数组对象（可以动态增长）不同。更改ndarray的大小将创建一个新数组并删除原来的数组。\n",
    "+ NumPy 数组中的元素都需要具有相同的数据类型，因此在内存中的大小相同。 例外情况：Python的原生数组里包含了NumPy的对象的时候，这种情况下就允许不同大小元素的数组。\n",
    "+ NumPy 数组有助于对大量数据进行高级数学和其他类型的操作。通常，这些操作的执行效率更高，比使用Python原生数组的代码更少。\n",
    "+ 越来越多的基于Python的科学和数学软件包使用NumPy数组; 虽然这些工具通常都支持Python的原生数组作为参数，但它们在处理之前会还是会将输入的数组转换为NumPy的数组，而且也通常输出为NumPy数组。\n",
    "\n",
    "\n",
    "---\n",
    "\n",
    "**对应博客资料**\n",
    "\n",
    "如何通过一顿饭来说明NumPy与pandas的功用 - 范仁义 - 博客园\n",
    "https://www.cnblogs.com/Renyi-Fan/p/13232318.html\n",
    "\n"
   ]
  },
  {
   "cell_type": "markdown",
   "metadata": {},
   "source": [
    "## 二、创建矩阵"
   ]
  },
  {
   "cell_type": "markdown",
   "metadata": {},
   "source": [
    "**numpy库中创建数组方法array和asarray的区别**\n",
    "\n",
    "array和asarray都可以将结构数据转化为ndarray，但是主要区别就是当数据源是ndarray时，<div style=\"color:red;\">【array仍然会copy出一个副本，占用新的内存，但asarray不会】</div>\n",
    "\n",
    "意思是对数据源进行重新赋值的话，array转化后的数据不变，asarray转化后的数据也会跟着数据源重新被赋值。\n",
    "\n",
    "---\n",
    "\n",
    "**创建矩阵的方法**\n",
    "\n",
    "numpy中的数据结构主要是同构的多维数组，所以创建数组的方法主要有array和arange方法，当然还有其它的一些比如linspace等等\n",
    "\n",
    "~~~\n",
    "arr = np.array([[1,2,3],[4,5,6]])\n",
    "arr = np.arange(6).reshape((2,3))\n",
    "~~~\n",
    "\n",
    "---\n",
    "\n",
    "\n",
    "\n"
   ]
  },
  {
   "cell_type": "code",
   "execution_count": 42,
   "metadata": {},
   "outputs": [],
   "source": [
    "# 安装库\n",
    "# pip install numpy\n",
    "# 查看安装的库\n",
    "# pip list\n",
    "\n",
    "# 引入库\n",
    "import numpy as np\n"
   ]
  },
  {
   "cell_type": "markdown",
   "metadata": {},
   "source": [
    "### 1、array方法"
   ]
  },
  {
   "cell_type": "code",
   "execution_count": 4,
   "metadata": {},
   "outputs": [
    {
     "name": "stdout",
     "output_type": "stream",
     "text": [
      "[[1 2 3]\n",
      " [4 5 6]]\n"
     ]
    }
   ],
   "source": [
    "# numpy的核心是n维数组，所以创建数组是array方法\n",
    "arr = np.array([[1,2,3],\n",
    "                [4,5,6]])\n",
    "print(arr)\n"
   ]
  },
  {
   "cell_type": "code",
   "execution_count": 7,
   "metadata": {},
   "outputs": [
    {
     "name": "stdout",
     "output_type": "stream",
     "text": [
      "[1 2 3]\n",
      "int64\n"
     ]
    }
   ],
   "source": [
    "# 指定类型\n",
    "arr = np.array([1,2,3],dtype=np.int64)\n",
    "print(arr)\n",
    "print(arr.dtype)"
   ]
  },
  {
   "cell_type": "code",
   "execution_count": 17,
   "metadata": {},
   "outputs": [
    {
     "name": "stdout",
     "output_type": "stream",
     "text": [
      "[1, True, 'a', [1, 23]]\n",
      "['1' 'True' 'a']\n",
      "<U11\n"
     ]
    }
   ],
   "source": [
    "# 同构还是异构\n",
    "# 原生python中\n",
    "list1 = [1,True,\"a\",[1,23]]\n",
    "print(list1)\n",
    "# numpy中\n",
    "arr = np.array([1,True,'a'])\n",
    "print(arr)\n",
    "print(arr.dtype)\n",
    "# 可以看到结果里面全部转化成了字符串，也就是全部转化为了同一类型"
   ]
  },
  {
   "cell_type": "markdown",
   "metadata": {},
   "source": [
    "### 2、arange方法\n",
    "\n",
    "为了创建数字组成的数组，NumPy提供了一个类似于range的函数arange，该函数返回数组而不是列表。\n"
   ]
  },
  {
   "cell_type": "code",
   "execution_count": 13,
   "metadata": {},
   "outputs": [
    {
     "name": "stdout",
     "output_type": "stream",
     "text": [
      "[0 1 2 3 4 5 6 7 8 9]\n",
      "[10 11 12 13 14 15 16 17 18 19]\n",
      "[10 13 16 19]\n"
     ]
    }
   ],
   "source": [
    "arr = np.arange(10)\n",
    "print(arr)\n",
    "# 指定起点和终点\n",
    "arr = np.arange(10,20)\n",
    "print(arr)\n",
    "# 指定步长\n",
    "arr = np.arange(10,20,3)\n",
    "print(arr)"
   ]
  },
  {
   "cell_type": "code",
   "execution_count": 15,
   "metadata": {},
   "outputs": [
    {
     "name": "stdout",
     "output_type": "stream",
     "text": [
      "[[0 1 2]\n",
      " [3 4 5]]\n"
     ]
    }
   ],
   "source": [
    "# reshape方法改变维数\n",
    "arr = np.arange(6).reshape((2,3))\n",
    "print(arr)\n"
   ]
  },
  {
   "cell_type": "code",
   "execution_count": 18,
   "metadata": {},
   "outputs": [
    {
     "name": "stdout",
     "output_type": "stream",
     "text": [
      "[1.  1.5 2.  2.5 3. ]\n",
      "float64\n"
     ]
    }
   ],
   "source": [
    "# 等差数列\n",
    "arr = np.linspace(1,3,5)\n",
    "print(arr)\n",
    "print(arr.dtype)"
   ]
  },
  {
   "cell_type": "code",
   "execution_count": 21,
   "metadata": {},
   "outputs": [
    {
     "name": "stdout",
     "output_type": "stream",
     "text": [
      "[  10.           31.6227766   100.          316.22776602 1000.        ]\n",
      "float64\n"
     ]
    }
   ],
   "source": [
    "# 等比数列\n",
    "arr = np.logspace(1,3,5)\n",
    "print(arr)\n",
    "print(arr.dtype)"
   ]
  },
  {
   "cell_type": "markdown",
   "metadata": {},
   "source": [
    "## 三、特殊矩阵"
   ]
  },
  {
   "cell_type": "markdown",
   "metadata": {},
   "source": [
    "**numpy中的特殊矩阵**\n",
    "\n",
    "numpy中的特殊矩阵 主要有ones（全1）、zeros（全0）、eye（单位矩阵）、empty（未初始化）\n",
    "\n",
    "~~~\n",
    "np.ones((3,4))\n",
    "np.zeros((3,4))\n",
    "np.eye(2)\n",
    "np.empty((6,4))\n",
    "~~~"
   ]
  },
  {
   "cell_type": "code",
   "execution_count": 23,
   "metadata": {},
   "outputs": [
    {
     "name": "stdout",
     "output_type": "stream",
     "text": [
      "[[1. 1. 1. 1.]\n",
      " [1. 1. 1. 1.]\n",
      " [1. 1. 1. 1.]]\n"
     ]
    }
   ],
   "source": [
    "# 参数是一个元组，来指定行列\n",
    "arr = np.ones((3,4))\n",
    "print(arr)"
   ]
  },
  {
   "cell_type": "code",
   "execution_count": 25,
   "metadata": {
    "scrolled": true
   },
   "outputs": [
    {
     "name": "stdout",
     "output_type": "stream",
     "text": [
      "[[0. 0. 0. 0.]\n",
      " [0. 0. 0. 0.]\n",
      " [0. 0. 0. 0.]]\n"
     ]
    }
   ],
   "source": [
    "arr = np.zeros((3,4))\n",
    "print(arr)"
   ]
  },
  {
   "cell_type": "code",
   "execution_count": 35,
   "metadata": {
    "scrolled": false
   },
   "outputs": [
    {
     "name": "stdout",
     "output_type": "stream",
     "text": [
      "Help on function eye in module numpy:\n",
      "\n",
      "eye(N, M=None, k=0, dtype=<class 'float'>, order='C')\n",
      "    Return a 2-D array with ones on the diagonal and zeros elsewhere.\n",
      "    \n",
      "    Parameters\n",
      "    ----------\n",
      "    N : int\n",
      "      Number of rows in the output.\n",
      "    M : int, optional\n",
      "      Number of columns in the output. If None, defaults to `N`.\n",
      "    k : int, optional\n",
      "      Index of the diagonal: 0 (the default) refers to the main diagonal,\n",
      "      a positive value refers to an upper diagonal, and a negative value\n",
      "      to a lower diagonal.\n",
      "    dtype : data-type, optional\n",
      "      Data-type of the returned array.\n",
      "    order : {'C', 'F'}, optional\n",
      "        Whether the output should be stored in row-major (C-style) or\n",
      "        column-major (Fortran-style) order in memory.\n",
      "    \n",
      "        .. versionadded:: 1.14.0\n",
      "    \n",
      "    Returns\n",
      "    -------\n",
      "    I : ndarray of shape (N,M)\n",
      "      An array where all elements are equal to zero, except for the `k`-th\n",
      "      diagonal, whose values are equal to one.\n",
      "    \n",
      "    See Also\n",
      "    --------\n",
      "    identity : (almost) equivalent function\n",
      "    diag : diagonal 2-D array from a 1-D array specified by the user.\n",
      "    \n",
      "    Examples\n",
      "    --------\n",
      "    >>> np.eye(2, dtype=int)\n",
      "    array([[1, 0],\n",
      "           [0, 1]])\n",
      "    >>> np.eye(3, k=1)\n",
      "    array([[0.,  1.,  0.],\n",
      "           [0.,  0.,  1.],\n",
      "           [0.,  0.,  0.]])\n",
      "\n"
     ]
    }
   ],
   "source": [
    "help(np.eye)"
   ]
  },
  {
   "cell_type": "code",
   "execution_count": 49,
   "metadata": {
    "scrolled": false
   },
   "outputs": [
    {
     "name": "stdout",
     "output_type": "stream",
     "text": [
      "[[1. 0.]\n",
      " [0. 1.]]\n"
     ]
    }
   ],
   "source": [
    "# 对角矩阵的行列肯定是一样的\n",
    "arr = np.eye(2)\n",
    "print(arr)"
   ]
  },
  {
   "cell_type": "code",
   "execution_count": 50,
   "metadata": {
    "scrolled": false
   },
   "outputs": [
    {
     "name": "stdout",
     "output_type": "stream",
     "text": [
      "[[4.624e-321 4.624e-321 4.190e-321 4.190e-321]\n",
      " [2.628e-321 2.628e-321 3.992e-321 3.992e-321]\n",
      " [4.585e-321 4.585e-321 4.427e-321 4.427e-321]\n",
      " [5.613e-321 5.613e-321 5.652e-321 5.652e-321]\n",
      " [5.454e-321 5.454e-321 2.174e-321 2.174e-321]\n",
      " [5.830e-321 5.830e-321 4.466e-321 4.466e-321]]\n"
     ]
    }
   ],
   "source": [
    "# empty为空，表示没有初始化的意思\n",
    "arr1 = np.empty((6,4))\n",
    "print(arr1)"
   ]
  },
  {
   "cell_type": "markdown",
   "metadata": {},
   "source": [
    "## 四、常用属性"
   ]
  },
  {
   "cell_type": "markdown",
   "metadata": {},
   "source": [
    "numpy的多维数组常用属性主要有dtype（数据类型）、ndim（维度）、shape（性状）、size（元素个数）\n",
    "\n",
    "~~~\n",
    "arr = np.arange(12).reshape((3,4))\n",
    "print(arr)\n",
    "# 数据类型\n",
    "print(arr.dtype)\n",
    "# 维数\n",
    "print(arr.ndim)\n",
    "# 行数和列数\n",
    "print(arr.shape)\n",
    "# 大小，也就是元素个数\n",
    "print(arr.size)\n",
    "\n",
    "[[ 0  1  2  3]\n",
    " [ 4  5  6  7]\n",
    " [ 8  9 10 11]]\n",
    "int32\n",
    "2\n",
    "(3, 4)\n",
    "12\n",
    "\n",
    "~~~\n"
   ]
  },
  {
   "cell_type": "code",
   "execution_count": 52,
   "metadata": {},
   "outputs": [
    {
     "name": "stdout",
     "output_type": "stream",
     "text": [
      "[[ 0  1  2  3]\n",
      " [ 4  5  6  7]\n",
      " [ 8  9 10 11]]\n",
      "int32\n",
      "2\n",
      "(3, 4)\n",
      "12\n"
     ]
    }
   ],
   "source": [
    "arr = np.arange(12).reshape((3,4))\n",
    "print(arr)\n",
    "# 数据类型\n",
    "print(arr.dtype)\n",
    "# 维数\n",
    "print(arr.ndim)\n",
    "# 行数和列数\n",
    "print(arr.shape)\n",
    "# 大小，也就是元素个数\n",
    "print(arr.size)"
   ]
  },
  {
   "cell_type": "markdown",
   "metadata": {},
   "source": [
    "## 五、基本计算"
   ]
  },
  {
   "cell_type": "markdown",
   "metadata": {},
   "source": [
    "numpy中的ndarray对象重载了许多运算符，使用这些运算符可以完成矩阵间对应元素的运算。\n",
    "\n",
    "如 +，-，\\*（内积），/，%，\\*\\*（次方），@（矩阵阶层）\n",
    "\n",
    "~~~\n",
    "# 矩阵内积：对应位置相乘\n",
    "print(arr1*arr2)\n",
    "# 矩阵乘法：\n",
    "print(arr1@arr2)\n",
    "print(np.dot(arr1,arr2))\n",
    "print(arr1.dot(arr2))\n",
    "~~~\n"
   ]
  },
  {
   "cell_type": "code",
   "execution_count": 61,
   "metadata": {},
   "outputs": [
    {
     "name": "stdout",
     "output_type": "stream",
     "text": [
      "[[0 1]\n",
      " [1 2]]\n",
      "[[0 1]\n",
      " [2 3]]\n",
      "===========================\n",
      "[[0 2]\n",
      " [3 5]]\n",
      "[[0 0]\n",
      " [1 1]]\n"
     ]
    }
   ],
   "source": [
    "arr1 = np.array([[0,1],[1,2]])\n",
    "arr2 = np.arange(4).reshape((2,2))\n",
    "ans = arr1 + arr2\n",
    "print(arr1)\n",
    "print(arr2)\n",
    "print(\"===========================\")\n",
    "print(ans)\n",
    "print(arr2-arr1)"
   ]
  },
  {
   "cell_type": "code",
   "execution_count": 64,
   "metadata": {},
   "outputs": [
    {
     "name": "stdout",
     "output_type": "stream",
     "text": [
      "[[0 1]\n",
      " [2 6]]\n",
      "[[2 3]\n",
      " [4 7]]\n",
      "[[2 3]\n",
      " [4 7]]\n",
      "[[2 3]\n",
      " [4 7]]\n"
     ]
    }
   ],
   "source": [
    "# 矩阵内积：对应位置相乘\n",
    "print(arr1*arr2)\n",
    "# 矩阵乘法：\n",
    "print(arr1@arr2)\n",
    "print(np.dot(arr1,arr2))\n",
    "print(arr1.dot(arr2))"
   ]
  },
  {
   "cell_type": "code",
   "execution_count": 65,
   "metadata": {},
   "outputs": [
    {
     "name": "stdout",
     "output_type": "stream",
     "text": [
      "[[0 3]\n",
      " [3 6]]\n"
     ]
    }
   ],
   "source": [
    "print(arr1*3)"
   ]
  },
  {
   "cell_type": "code",
   "execution_count": 66,
   "metadata": {},
   "outputs": [
    {
     "name": "stdout",
     "output_type": "stream",
     "text": [
      "[[0.  0.5]\n",
      " [0.5 1. ]]\n"
     ]
    }
   ],
   "source": [
    "print(arr1/2)"
   ]
  },
  {
   "cell_type": "code",
   "execution_count": 67,
   "metadata": {},
   "outputs": [
    {
     "name": "stdout",
     "output_type": "stream",
     "text": [
      "[[0 1]\n",
      " [1 4]]\n"
     ]
    }
   ],
   "source": [
    "print(arr1**2)"
   ]
  },
  {
   "cell_type": "code",
   "execution_count": 69,
   "metadata": {},
   "outputs": [
    {
     "name": "stdout",
     "output_type": "stream",
     "text": [
      "[[0 1]\n",
      " [2 0]]\n"
     ]
    }
   ],
   "source": [
    "print(arr2%3)"
   ]
  },
  {
   "cell_type": "markdown",
   "metadata": {},
   "source": [
    "## 六、常用函数"
   ]
  },
  {
   "cell_type": "markdown",
   "metadata": {},
   "source": [
    "numpy常用多维函数有sin、sqrt、sort、transpose、max、\n",
    "\n",
    "mean（average）、sum、median（中位数）、var（方差）、std（标准差）、cumsum（累加）、\n",
    "\n",
    "np.clip(arr,5,9)（小于5的数全部让它变成5，大于9的数全部是9）\n",
    "\n",
    "---\n",
    "\n",
    "**axis为0为1表示的意思是什么**\n",
    "\n",
    "axis为0表示对列进行操作，axis为1表示为行进行操作\n",
    "\n",
    "~~~\n",
    "[[ 0  1  2  3]\n",
    " [ 4  5  6  7]\n",
    " [ 8  9 10 11]]\n",
    "\n",
    "# 平均数\n",
    "print(arr.mean())\n",
    "print(np.average(arr))\n",
    "print(np.average(arr,axis=0)) # 0是列\n",
    "print(np.average(arr,axis=1)) # 1是行\n",
    "\n",
    "5.75\n",
    "5.75\n",
    "[4. 5. 7. 7.]\n",
    "[1.5  6.25 9.5 ]\n",
    "\n",
    "~~~\n"
   ]
  },
  {
   "cell_type": "code",
   "execution_count": 71,
   "metadata": {
    "scrolled": false
   },
   "outputs": [
    {
     "name": "stdout",
     "output_type": "stream",
     "text": [
      "[[ 0  1  2  3]\n",
      " [ 4  5  6  7]\n",
      " [ 8  9 10 11]]\n",
      "[[ 0.          0.84147098  0.90929743  0.14112001]\n",
      " [-0.7568025  -0.95892427 -0.2794155   0.6569866 ]\n",
      " [ 0.98935825  0.41211849 -0.54402111 -0.99999021]]\n",
      "[[0.         1.         1.41421356 1.73205081]\n",
      " [2.         2.23606798 2.44948974 2.64575131]\n",
      " [2.82842712 3.         3.16227766 3.31662479]]\n"
     ]
    }
   ],
   "source": [
    "arr = np.arange(12).reshape((3,4))\n",
    "print(arr)\n",
    "print(np.sin(arr))\n",
    "print(np.sqrt(arr))"
   ]
  },
  {
   "cell_type": "code",
   "execution_count": 77,
   "metadata": {},
   "outputs": [
    {
     "name": "stdout",
     "output_type": "stream",
     "text": [
      "[[0.14680654 0.45555777 0.20272618 0.80548907]\n",
      " [0.0580613  0.59622315 0.14429785 0.50518877]\n",
      " [0.7277057  0.26036975 0.71367339 0.64882704]]\n",
      "[[0.14680654 0.20272618 0.45555777 0.80548907]\n",
      " [0.0580613  0.14429785 0.50518877 0.59622315]\n",
      " [0.26036975 0.64882704 0.71367339 0.7277057 ]]\n"
     ]
    }
   ],
   "source": [
    "# 随机数 排序  转置  求平均数  \n",
    "arr = np.random.random(12).reshape((3,4))\n",
    "print(arr)\n",
    "# 默认每行排序\n",
    "print(np.sort(arr))"
   ]
  },
  {
   "cell_type": "code",
   "execution_count": 79,
   "metadata": {
    "scrolled": true
   },
   "outputs": [
    {
     "name": "stdout",
     "output_type": "stream",
     "text": [
      "[[0.28404892 0.16859485 0.40676585 0.82394419]\n",
      " [0.13459384 0.35249053 0.43333728 0.09445943]\n",
      " [0.80790859 0.13132432 0.17725597 0.90638246]]\n",
      "[[0.13459384 0.13132432 0.17725597 0.09445943]\n",
      " [0.28404892 0.16859485 0.40676585 0.82394419]\n",
      " [0.80790859 0.35249053 0.43333728 0.90638246]]\n"
     ]
    }
   ],
   "source": [
    "arr = np.random.random(12).reshape((3,4))\n",
    "print(arr)\n",
    "# 指定列排序\n",
    "print(np.sort(arr,axis=0))"
   ]
  },
  {
   "cell_type": "code",
   "execution_count": 83,
   "metadata": {},
   "outputs": [
    {
     "name": "stdout",
     "output_type": "stream",
     "text": [
      "[[ 0  1  2  3]\n",
      " [ 4  5  6  7]\n",
      " [ 8  9 10 11]]\n",
      "[[ 0  4  8]\n",
      " [ 1  5  9]\n",
      " [ 2  6 10]\n",
      " [ 3  7 11]]\n",
      "[[ 0  4  8]\n",
      " [ 1  5  9]\n",
      " [ 2  6 10]\n",
      " [ 3  7 11]]\n"
     ]
    }
   ],
   "source": [
    "# 转置\n",
    "arr = np.arange(12).reshape((3,4))\n",
    "print(arr)\n",
    "print(arr.T)\n",
    "print(arr.transpose())"
   ]
  },
  {
   "cell_type": "code",
   "execution_count": 101,
   "metadata": {},
   "outputs": [
    {
     "name": "stdout",
     "output_type": "stream",
     "text": [
      "[[ 0  1  2  3]\n",
      " [ 4  5  9  7]\n",
      " [ 8  9 10 11]]\n",
      "11\n",
      "[ 8  9 10 11]\n",
      "[ 3  9 11]\n"
     ]
    }
   ],
   "source": [
    "# max,min\n",
    "# 0是列（一列来操作），1是行（一行来操作）\n",
    "arr = np.arange(12).reshape((3,4))\n",
    "arr[1][2]=9\n",
    "print(arr)\n",
    "print(np.max(arr))\n",
    "print(np.max(arr,axis=0))\n",
    "print(np.max(arr,axis=1))\n"
   ]
  },
  {
   "cell_type": "code",
   "execution_count": 102,
   "metadata": {},
   "outputs": [
    {
     "name": "stdout",
     "output_type": "stream",
     "text": [
      "5.75\n",
      "5.75\n",
      "[4. 5. 7. 7.]\n",
      "[1.5  6.25 9.5 ]\n"
     ]
    }
   ],
   "source": [
    "# 平均数\n",
    "print(arr.mean())\n",
    "print(np.average(arr))\n",
    "print(np.average(arr,axis=0)) # 0是列\n",
    "print(np.average(arr,axis=1)) # 1是行"
   ]
  },
  {
   "cell_type": "code",
   "execution_count": 103,
   "metadata": {},
   "outputs": [
    {
     "name": "stdout",
     "output_type": "stream",
     "text": [
      "6.0\n",
      "[4. 5. 9. 7.]\n",
      "[1.5 6.  9.5]\n"
     ]
    }
   ],
   "source": [
    "# 中位数\n",
    "print(np.median(arr))\n",
    "print(np.median(arr,axis=0)) # 0是列\n",
    "print(np.median(arr,axis=1)) # 1是行"
   ]
  },
  {
   "cell_type": "code",
   "execution_count": 93,
   "metadata": {},
   "outputs": [
    {
     "name": "stdout",
     "output_type": "stream",
     "text": [
      "11.916666666666666\n",
      "3.452052529534663\n"
     ]
    }
   ],
   "source": [
    "# 方差和标准差\n",
    "# 方差的函数为var(),方差函数var()相当于函数mean(abs(x - x.mean())**2),其中x为矩阵。\n",
    "print(np.var(arr))\n",
    "# 标准差的函数为std()， std()相当于sqrt(mean(abs(x - x.mean())**2))，或相当于sqrt(x.var())。\n",
    "print(np.std(arr))"
   ]
  },
  {
   "cell_type": "code",
   "execution_count": 95,
   "metadata": {},
   "outputs": [
    {
     "name": "stdout",
     "output_type": "stream",
     "text": [
      "66\n"
     ]
    }
   ],
   "source": [
    "# 求和\n",
    "print(np.sum(arr))"
   ]
  },
  {
   "cell_type": "code",
   "execution_count": 97,
   "metadata": {},
   "outputs": [
    {
     "name": "stdout",
     "output_type": "stream",
     "text": [
      "[[ 0  1  2  3]\n",
      " [ 4  5  6  7]\n",
      " [ 8  9 10 11]]\n",
      "[ 0  1  3  6 10 15 21 28 36 45 55 66]\n"
     ]
    }
   ],
   "source": [
    "# 累加\n",
    "print(arr)\n",
    "print(np.cumsum(arr))"
   ]
  },
  {
   "cell_type": "code",
   "execution_count": 105,
   "metadata": {},
   "outputs": [
    {
     "name": "stdout",
     "output_type": "stream",
     "text": [
      "[[5 5 5 5]\n",
      " [5 5 9 7]\n",
      " [8 9 9 9]]\n"
     ]
    }
   ],
   "source": [
    "# 小于5的数全部让它变成5\n",
    "# 大于9的数全部是9\n",
    "print(np.clip(arr,5,9))"
   ]
  },
  {
   "cell_type": "code",
   "execution_count": 106,
   "metadata": {},
   "outputs": [
    {
     "name": "stdout",
     "output_type": "stream",
     "text": [
      "Help on function clip in module numpy:\n",
      "\n",
      "clip(a, a_min, a_max, out=None, **kwargs)\n",
      "    Clip (limit) the values in an array.\n",
      "    \n",
      "    Given an interval, values outside the interval are clipped to\n",
      "    the interval edges.  For example, if an interval of ``[0, 1]``\n",
      "    is specified, values smaller than 0 become 0, and values larger\n",
      "    than 1 become 1.\n",
      "    \n",
      "    Equivalent to but faster than ``np.maximum(a_min, np.minimum(a, a_max))``.\n",
      "    No check is performed to ensure ``a_min < a_max``.\n",
      "    \n",
      "    Parameters\n",
      "    ----------\n",
      "    a : array_like\n",
      "        Array containing elements to clip.\n",
      "    a_min : scalar or array_like or None\n",
      "        Minimum value. If None, clipping is not performed on lower\n",
      "        interval edge. Not more than one of `a_min` and `a_max` may be\n",
      "        None.\n",
      "    a_max : scalar or array_like or None\n",
      "        Maximum value. If None, clipping is not performed on upper\n",
      "        interval edge. Not more than one of `a_min` and `a_max` may be\n",
      "        None. If `a_min` or `a_max` are array_like, then the three\n",
      "        arrays will be broadcasted to match their shapes.\n",
      "    out : ndarray, optional\n",
      "        The results will be placed in this array. It may be the input\n",
      "        array for in-place clipping.  `out` must be of the right shape\n",
      "        to hold the output.  Its type is preserved.\n",
      "    **kwargs\n",
      "        For other keyword-only arguments, see the\n",
      "        :ref:`ufunc docs <ufuncs.kwargs>`.\n",
      "    \n",
      "        .. versionadded:: 1.17.0\n",
      "    \n",
      "    Returns\n",
      "    -------\n",
      "    clipped_array : ndarray\n",
      "        An array with the elements of `a`, but where values\n",
      "        < `a_min` are replaced with `a_min`, and those > `a_max`\n",
      "        with `a_max`.\n",
      "    \n",
      "    See Also\n",
      "    --------\n",
      "    ufuncs-output-type\n",
      "    \n",
      "    Examples\n",
      "    --------\n",
      "    >>> a = np.arange(10)\n",
      "    >>> np.clip(a, 1, 8)\n",
      "    array([1, 1, 2, 3, 4, 5, 6, 7, 8, 8])\n",
      "    >>> a\n",
      "    array([0, 1, 2, 3, 4, 5, 6, 7, 8, 9])\n",
      "    >>> np.clip(a, 3, 6, out=a)\n",
      "    array([3, 3, 3, 3, 4, 5, 6, 6, 6, 6])\n",
      "    >>> a = np.arange(10)\n",
      "    >>> a\n",
      "    array([0, 1, 2, 3, 4, 5, 6, 7, 8, 9])\n",
      "    >>> np.clip(a, [3, 4, 1, 1, 1, 4, 4, 4, 4, 4], 8)\n",
      "    array([3, 4, 2, 3, 4, 5, 6, 7, 8, 8])\n",
      "\n"
     ]
    }
   ],
   "source": [
    "help(np.clip)"
   ]
  },
  {
   "cell_type": "markdown",
   "metadata": {},
   "source": [
    "## 七、索引和迭代"
   ]
  },
  {
   "cell_type": "markdown",
   "metadata": {},
   "source": [
    "numpy中，可以像普通数组一样用下标来访问元素，比如a[1][1]、a[1,1]\n",
    "\n",
    "---\n",
    "\n",
    "**numpy中访问行列元素**\n",
    "\n",
    "a[1,:]（打印下标为1的行所有数）\n",
    "\n",
    "a[:,1]（打印下标为1的列的所有数）\n",
    "\n",
    "a[1,1:3]（第1行 列从1-2）\n",
    "\n",
    "\n",
    "---\n",
    "\n",
    "**numpy中迭代行循环打印即可，如何迭代列**\n",
    "\n",
    "将矩阵转置即可\n",
    "\n",
    "~~~\n",
    "# 迭代列 (转置一下即可实现)\n",
    "for i in a.T:\n",
    "    print(i)\n",
    "~~~\n",
    "\n",
    "---\n",
    "\n",
    "**numpy中如何迭代多维数组的每一个数**\n",
    "\n",
    "for i in a.flat: print(i)\n",
    "\n"
   ]
  },
  {
   "cell_type": "code",
   "execution_count": 125,
   "metadata": {},
   "outputs": [
    {
     "name": "stdout",
     "output_type": "stream",
     "text": [
      "[ 3  4  5  6  7  8  9 10 11 12 13 14]\n",
      "6\n"
     ]
    }
   ],
   "source": [
    "a = np.arange(3,15)\n",
    "print(a)\n",
    "# 索引像数组一样\n",
    "print(a[3])"
   ]
  },
  {
   "cell_type": "code",
   "execution_count": 108,
   "metadata": {},
   "outputs": [
    {
     "name": "stdout",
     "output_type": "stream",
     "text": [
      "[[ 3  4  5  6]\n",
      " [ 7  8  9 10]\n",
      " [11 12 13 14]]\n",
      "[ 7  8  9 10]\n",
      "8\n",
      "8\n"
     ]
    }
   ],
   "source": [
    "# 二维数组\n",
    "a = np.arange(3,15).reshape((3,4))\n",
    "print(a)\n",
    "# 索引像数组一样\n",
    "print(a[1])\n",
    "print(a[1][1])\n",
    "print(a[1,1])"
   ]
  },
  {
   "cell_type": "code",
   "execution_count": 109,
   "metadata": {},
   "outputs": [
    {
     "name": "stdout",
     "output_type": "stream",
     "text": [
      "[ 7  8  9 10]\n",
      "[ 4  8 12]\n",
      "[8 9]\n"
     ]
    }
   ],
   "source": [
    "# 打印下标为1的行所有数\n",
    "print(a[1,:])\n",
    "# 打印下标为1的列的所有数\n",
    "print(a[:,1])\n",
    "# 第1行 列从1-2\n",
    "print(a[1,1:3])"
   ]
  },
  {
   "cell_type": "code",
   "execution_count": 110,
   "metadata": {},
   "outputs": [
    {
     "name": "stdout",
     "output_type": "stream",
     "text": [
      "[[ 3  4  5  6]\n",
      " [ 7  8  9 10]\n",
      " [11 12 13 14]]\n",
      "[3 4 5 6]\n",
      "[ 7  8  9 10]\n",
      "[11 12 13 14]\n"
     ]
    }
   ],
   "source": [
    "# 迭代行\n",
    "a = np.arange(3,15).reshape((3,4))\n",
    "print(a)\n",
    "for i in a:\n",
    "    print(i)"
   ]
  },
  {
   "cell_type": "code",
   "execution_count": 111,
   "metadata": {},
   "outputs": [
    {
     "name": "stdout",
     "output_type": "stream",
     "text": [
      "[ 3  7 11]\n",
      "[ 4  8 12]\n",
      "[ 5  9 13]\n",
      "[ 6 10 14]\n"
     ]
    }
   ],
   "source": [
    "# 迭代列 (转置一下即可实现)\n",
    "for i in a.T:\n",
    "    print(i)"
   ]
  },
  {
   "cell_type": "code",
   "execution_count": 112,
   "metadata": {},
   "outputs": [
    {
     "name": "stdout",
     "output_type": "stream",
     "text": [
      "[ 3  4  5  6  7  8  9 10 11 12 13 14]\n",
      "3\n",
      "4\n",
      "5\n",
      "6\n",
      "7\n",
      "8\n",
      "9\n",
      "10\n",
      "11\n",
      "12\n",
      "13\n",
      "14\n"
     ]
    }
   ],
   "source": [
    "# 迭代每一个数\n",
    "print(a.flatten())\n",
    "# flatten() 和 flat的区别\n",
    "# flat是一个迭代器\n",
    "for i in a.flat:\n",
    "    print(i)"
   ]
  },
  {
   "cell_type": "markdown",
   "metadata": {},
   "source": [
    "## 八、数组合并"
   ]
  },
  {
   "cell_type": "markdown",
   "metadata": {},
   "source": [
    "numpy数组水平合并可以np.hstack((a,b))，类似于np.concatenate((a,b,a),axis=1)\n",
    "\n",
    "numpy数组垂直合并可以np.vstack((a,b))，类似于np.concatenate((a,b,a),axis=0)\n"
   ]
  },
  {
   "cell_type": "code",
   "execution_count": 113,
   "metadata": {},
   "outputs": [
    {
     "name": "stdout",
     "output_type": "stream",
     "text": [
      "[[1 2 3]\n",
      " [4 5 6]]\n",
      "(3,)\n",
      "(2, 3)\n"
     ]
    }
   ],
   "source": [
    "a = np.array([1,2,3])\n",
    "b = np.array([4,5,6])\n",
    "# 合并数组\n",
    "# 上下合并 vertical stack\n",
    "c = np.vstack((a,b))\n",
    "print(c)\n",
    "print(a.shape)\n",
    "print(c.shape)"
   ]
  },
  {
   "cell_type": "code",
   "execution_count": 114,
   "metadata": {},
   "outputs": [
    {
     "name": "stdout",
     "output_type": "stream",
     "text": [
      "[1 2 3 4 5 6]\n"
     ]
    }
   ],
   "source": [
    "# 左右合并 horizontal\n",
    "c = np.hstack((a,b))\n",
    "print(c)"
   ]
  },
  {
   "cell_type": "code",
   "execution_count": 115,
   "metadata": {},
   "outputs": [
    {
     "name": "stdout",
     "output_type": "stream",
     "text": [
      "[[1 2 3]]\n",
      "[[1]\n",
      " [2]\n",
      " [3]]\n"
     ]
    }
   ],
   "source": [
    "# 如何实现把一个横向的数列变成一个竖向的数列\n",
    "a = np.array([1,2,3])\n",
    "# 在行上加了一个维度\n",
    "print(a[np.newaxis,:])\n",
    "# 在列上加了一个维度\n",
    "print(a[:,np.newaxis])"
   ]
  },
  {
   "cell_type": "code",
   "execution_count": 116,
   "metadata": {},
   "outputs": [
    {
     "name": "stdout",
     "output_type": "stream",
     "text": [
      "[[1]\n",
      " [2]\n",
      " [3]]\n",
      "[[4]\n",
      " [5]\n",
      " [6]]\n",
      "====================\n",
      "[[1]\n",
      " [2]\n",
      " [3]\n",
      " [4]\n",
      " [5]\n",
      " [6]\n",
      " [1]\n",
      " [2]\n",
      " [3]]\n",
      "====================\n",
      "[[1 4 1]\n",
      " [2 5 2]\n",
      " [3 6 3]]\n"
     ]
    }
   ],
   "source": [
    "a = np.array([1,2,3])[:,np.newaxis]\n",
    "b = np.array([4,5,6])[:,np.newaxis]\n",
    "print(a)\n",
    "print(b)\n",
    "print(\"====================\")\n",
    "c = np.concatenate((a,b,a),axis=0)\n",
    "print(c)\n",
    "print(\"====================\")\n",
    "d = np.concatenate((a,b,a),axis=1)\n",
    "print(d)"
   ]
  },
  {
   "cell_type": "markdown",
   "metadata": {},
   "source": [
    "## 九、数组分割"
   ]
  },
  {
   "cell_type": "markdown",
   "metadata": {},
   "source": [
    "等量分割：水平分成两块np.split(a,2,axis=1)，vsplit和hsplit也可以等量分割\n",
    "\n",
    "不等量分割：np.array_split(a,3,axis=1)"
   ]
  },
  {
   "cell_type": "code",
   "execution_count": 128,
   "metadata": {},
   "outputs": [
    {
     "name": "stdout",
     "output_type": "stream",
     "text": [
      "[[ 0  1  2  3]\n",
      " [ 4  5  6  7]\n",
      " [ 8  9 10 11]]\n",
      "====================\n",
      "[array([[0, 1],\n",
      "       [4, 5],\n",
      "       [8, 9]]), array([[ 2,  3],\n",
      "       [ 6,  7],\n",
      "       [10, 11]])]\n"
     ]
    }
   ],
   "source": [
    "a = np.arange(12).reshape((3,4))\n",
    "print(a)\n",
    "print(\"====================\")\n",
    "# 分割\n",
    "# 每行分割成两个\n",
    "# axis=1表示对水平进行操作\n",
    "print(np.split(a,2,axis=1))"
   ]
  },
  {
   "cell_type": "code",
   "execution_count": 118,
   "metadata": {},
   "outputs": [
    {
     "name": "stdout",
     "output_type": "stream",
     "text": [
      "[array([[0, 1, 2, 3]]), array([[4, 5, 6, 7]]), array([[ 8,  9, 10, 11]])]\n"
     ]
    }
   ],
   "source": [
    "# 纵向分割成3块\n",
    "print(np.split(a,3,axis=0))"
   ]
  },
  {
   "cell_type": "code",
   "execution_count": 119,
   "metadata": {},
   "outputs": [
    {
     "name": "stdout",
     "output_type": "stream",
     "text": [
      "[array([[0, 1],\n",
      "       [4, 5],\n",
      "       [8, 9]]), array([[ 2],\n",
      "       [ 6],\n",
      "       [10]]), array([[ 3],\n",
      "       [ 7],\n",
      "       [11]])]\n"
     ]
    }
   ],
   "source": [
    "# 不等量分割\n",
    "# ValueError: array split does not result in an equal division\n",
    "# print(np.split(a,3,axis=1)) # 行的四个元素分成3个会出错\n",
    "print(np.array_split(a,3,axis=1))\n",
    "# 这样分成了 2 1 1 "
   ]
  },
  {
   "cell_type": "code",
   "execution_count": 131,
   "metadata": {},
   "outputs": [
    {
     "name": "stdout",
     "output_type": "stream",
     "text": [
      "[array([[0, 1, 2, 3]]), array([[4, 5, 6, 7]]), array([[ 8,  9, 10, 11]])]\n",
      "[array([[0, 1],\n",
      "       [4, 5],\n",
      "       [8, 9]]), array([[ 2,  3],\n",
      "       [ 6,  7],\n",
      "       [10, 11]])]\n"
     ]
    }
   ],
   "source": [
    "print(np.vsplit(a,3))\n",
    "print(np.hsplit(a,2))"
   ]
  },
  {
   "cell_type": "markdown",
   "metadata": {},
   "source": [
    "## 十、数组拷贝"
   ]
  },
  {
   "cell_type": "markdown",
   "metadata": {},
   "source": [
    "numpy 中的 copy方法是 deep copy：b = np.copy(a)\n",
    "\n"
   ]
  },
  {
   "cell_type": "code",
   "execution_count": 121,
   "metadata": {},
   "outputs": [
    {
     "name": "stdout",
     "output_type": "stream",
     "text": [
      "[0 1 2 3]\n",
      "[0 1 2 3]\n"
     ]
    }
   ],
   "source": [
    "a = np.arange(4)\n",
    "b = a\n",
    "print(a)\n",
    "print(b)"
   ]
  },
  {
   "cell_type": "code",
   "execution_count": 122,
   "metadata": {},
   "outputs": [
    {
     "name": "stdout",
     "output_type": "stream",
     "text": [
      "[199   7   8   3]\n",
      "[199   7   8   3]\n",
      "2190570709120\n",
      "2190570709120\n",
      "True\n"
     ]
    }
   ],
   "source": [
    "a[0] = 199\n",
    "b[1:3] = [7,8]\n",
    "print(a)\n",
    "print(b)\n",
    "print(id(a))\n",
    "print(id(b))\n",
    "print(b is a)"
   ]
  },
  {
   "cell_type": "code",
   "execution_count": 132,
   "metadata": {},
   "outputs": [
    {
     "name": "stdout",
     "output_type": "stream",
     "text": [
      "[0 1 2 3]\n",
      "[0 1 2 3]\n",
      "2190587830880\n",
      "2190587831440\n"
     ]
    }
   ],
   "source": [
    "# numpy 中的 copy方法是 deep copy\n",
    "# 文档中说的非常详细\n",
    "a = np.arange(4)\n",
    "# b = a.copy()\n",
    "b = np.copy(a)\n",
    "print(a)\n",
    "print(b)\n",
    "print(id(a))\n",
    "print(id(b))"
   ]
  },
  {
   "cell_type": "code",
   "execution_count": 133,
   "metadata": {},
   "outputs": [
    {
     "name": "stdout",
     "output_type": "stream",
     "text": [
      "[199   1   2   3]\n",
      "[0 7 8 3]\n"
     ]
    }
   ],
   "source": [
    "a[0] = 199\n",
    "b[1:3] = [7,8]\n",
    "print(a)\n",
    "print(b)"
   ]
  },
  {
   "cell_type": "code",
   "execution_count": null,
   "metadata": {},
   "outputs": [],
   "source": []
  }
 ],
 "metadata": {
  "kernelspec": {
   "display_name": "Python 3",
   "language": "python",
   "name": "python3"
  },
  "language_info": {
   "codemirror_mode": {
    "name": "ipython",
    "version": 3
   },
   "file_extension": ".py",
   "mimetype": "text/x-python",
   "name": "python",
   "nbconvert_exporter": "python",
   "pygments_lexer": "ipython3",
   "version": "3.7.6"
  }
 },
 "nbformat": 4,
 "nbformat_minor": 4
}
