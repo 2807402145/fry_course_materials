{
 "cells": [
  {
   "attachments": {},
   "cell_type": "markdown",
   "metadata": {},
   "source": [
    "# 一、opencv是干啥的"
   ]
  },
  {
   "attachments": {},
   "cell_type": "markdown",
   "metadata": {},
   "source": [
    "OpenCV的全称是Open Source Computer Vision Library，是一个跨平台的`计算机视觉库`。OpenCV是由英特尔公司发起并参与开发，以BSD许可证授权发行，`可以在商业和研究领域中免费使用`。OpenCV可用于开发实时的图像处理、计算机视觉以及模式识别程序。该程序库也可以使用英特尔公司的IPP进行加速处理。\n",
    "\n",
    "OpenCV - 维基百科，自由的百科全书\n",
    "\n",
    "https://zh.wikipedia.org/zh-hans/OpenCV\n"
   ]
  },
  {
   "attachments": {},
   "cell_type": "markdown",
   "metadata": {},
   "source": [
    "# 二、课程设计初衷"
   ]
  },
  {
   "attachments": {},
   "cell_type": "markdown",
   "metadata": {},
   "source": [
    "1、【免费高效】想给大家带来免费高效的课程，课件和代码直接放到我的github仓库中，大家要用对应的功能的时候，直接复制粘贴我的代码，使用非常非常简单\n",
    "\n",
    "```\n",
    "https://github.com/fry404006308/fry_course_materials\n",
    "```\n",
    "\n",
    "2、【给大家节约时间】B站上面的opencv课程动则十几个小时，而入门，学会使用常用的api，半个小时一个小时就可以了。\n",
    "\n",
    "当然，老师带进门，修行靠个人\n",
    "\n",
    "3、【进阶功能】进阶需求可以直接在视频下方留言，我根据你们的需求，后面会录：比如opencv-c++版本，具体工业领域的项目实战，精度方面比如亚像素边缘检测，亚像素模板匹配等等，速度方面比如cuda加速改写opencv算子等等"
   ]
  },
  {
   "attachments": {},
   "cell_type": "markdown",
   "metadata": {},
   "source": [
    "# 三、python如何安装opencv"
   ]
  },
  {
   "attachments": {},
   "cell_type": "markdown",
   "metadata": {},
   "source": [
    "`pip install opencv-python`"
   ]
  },
  {
   "attachments": {},
   "cell_type": "markdown",
   "metadata": {},
   "source": [
    "# 四、课程大纲（初步）"
   ]
  },
  {
   "attachments": {},
   "cell_type": "markdown",
   "metadata": {},
   "source": [
    "## 课程介绍\n",
    "\n",
    "【0-1】、课程介绍及 opencv -python安装\n",
    "\n",
    "## 一、转化\n",
    "\n",
    "【1-1】、3 分钟学会彩色图片转灰度图-opencv\n",
    "\n",
    "【1-2】、3 分钟学会图像二值化-opencv\n",
    "\n",
    "【1-3】、3 分钟学会给灰度图着色-opencv\n",
    "\n",
    "## 二、写画\n",
    "\n",
    "【2-1】、3 分钟在图像上面写汉字-opencv\n",
    "\n",
    "【2-2】、3 分钟学会在图像上面画各种图形-opencv\n",
    "\n",
    "## 三、变换\n",
    "\n",
    "【3-1】、3 分钟学会改变图像尺寸-opencv\n",
    "\n",
    "【3-2】、3 分钟学会旋转图片-opencv\n",
    "\n",
    "【3-3】、3 分钟学会翻转图片-opencv\n",
    "\n",
    "【3-4】、3 分钟学会图片仿射变换-opencv\n",
    "\n",
    "## 四、融合\n",
    "\n",
    "【4-1】、3 分钟学会融合多张图片-opencv\n",
    "\n",
    "## 五、去噪\n",
    "\n",
    "【5-1】、4分钟学会去除图像噪声-高斯滤波-opencv\n",
    "\n",
    "【5-2】、4分钟学会去除图像噪声-中值滤波-opencv\n",
    "\n",
    "## 六、梯度、边缘、轮廓\n",
    "\n",
    "【6-1】、3 分钟学会求图像的梯度-opencv\n",
    "\n",
    "【6-2】、3 分钟学会求图像的边缘-opencv\n",
    "\n",
    "【6-3】、3 分钟学会求图像的轮廓-opencv\n",
    "\n",
    "【6-4】、3 分钟学会画图像的外接矩形-opencv\n",
    "\n",
    "## 七、模板匹配\n",
    "\n",
    "【7-1】、3分钟学会模板匹配-opencv\n",
    "\n",
    "## 八、连通域分析\n",
    "\n",
    "【8-1】、4分钟学会求图像的连通域-opencv\n",
    "\n",
    "## 九、直方图均衡\n",
    "\n",
    "【9-1】、3分钟学会增强图片特征细节-直方图均衡-opencv\n",
    "\n",
    "## 十、形态学\n",
    "\n",
    "【10-1】、3分钟学会图片的膨胀-opencv\n",
    "\n",
    "【10-2】、3分钟学会图片的腐蚀-opencv\n",
    "\n",
    "## 十一、直线拟合\n",
    "\n",
    "【11-1】、3分钟学会直线拟合-opencv\n",
    "\n",
    "## 十二、检测直线和圆\n",
    "\n",
    "【12-1】、3分钟学会检测图片中的直线-opencv\n",
    "\n",
    "【12-2】、3分钟学会检测图片中的圆-opencv\n",
    "\n",
    "## 说明：\n",
    "\n",
    "一些其它的我没讲，比如角点检测、傅里叶变换、曲面拟合等等功能，大家需要用的时候自行查找API既可"
   ]
  }
 ],
 "metadata": {
  "kernelspec": {
   "display_name": "pytorch_1_13_2",
   "language": "python",
   "name": "python3"
  },
  "language_info": {
   "codemirror_mode": {
    "name": "ipython",
    "version": 3
   },
   "file_extension": ".py",
   "mimetype": "text/x-python",
   "name": "python",
   "nbconvert_exporter": "python",
   "pygments_lexer": "ipython3",
   "version": "3.9.16"
  },
  "orig_nbformat": 4
 },
 "nbformat": 4,
 "nbformat_minor": 2
}
